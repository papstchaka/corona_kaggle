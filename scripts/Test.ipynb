{
 "cells": [
  {
   "cell_type": "code",
   "execution_count": 196,
   "metadata": {},
   "outputs": [],
   "source": [
    "import pandas as pd\n",
    "import numpy as np\n",
    "\n",
    "datapath=\"../data/\"\n",
    "\n",
    "submission_data = pd.read_csv(datapath + \"submission.csv\")\n",
    "test_data = pd.read_csv(datapath + \"test.csv\")\n",
    "train_data = pd.read_csv(datapath + \"train.csv\")\n",
    "countrycodes=pd.read_csv(datapath+\"country-codes_csv.csv\")\n",
    "indicator_data=pd.read_excel(datapath+\"Indicator_list.xlsx\").fillna(\"\")\n",
    "\n",
    "indicator_data[\"long_form\"]=indicator_data[\"long_form\"].apply(lambda x: \"_\".join(x.split(\" \")))\n",
    "train_data[[\"ConfirmedCases\",\"Fatalities\"]]=train_data[[\"ConfirmedCases\",\"Fatalities\"]].astype(int)\n",
    "submission_data[[\"ConfirmedCases\",\"Fatalities\"]]=submission_data[[\"ConfirmedCases\",\"Fatalities\"]].astype(int)"
   ]
  },
  {
   "cell_type": "code",
   "execution_count": 22,
   "metadata": {},
   "outputs": [
    {
     "data": {
      "text/html": [
       "<div>\n",
       "<style scoped>\n",
       "    .dataframe tbody tr th:only-of-type {\n",
       "        vertical-align: middle;\n",
       "    }\n",
       "\n",
       "    .dataframe tbody tr th {\n",
       "        vertical-align: top;\n",
       "    }\n",
       "\n",
       "    .dataframe thead th {\n",
       "        text-align: right;\n",
       "    }\n",
       "</style>\n",
       "<table border=\"1\" class=\"dataframe\">\n",
       "  <thead>\n",
       "    <tr style=\"text-align: right;\">\n",
       "      <th></th>\n",
       "      <th>Id</th>\n",
       "      <th>Province_State</th>\n",
       "      <th>Country_Region</th>\n",
       "      <th>Date</th>\n",
       "      <th>ConfirmedCases</th>\n",
       "      <th>Fatalities</th>\n",
       "    </tr>\n",
       "  </thead>\n",
       "  <tbody>\n",
       "    <tr>\n",
       "      <th>0</th>\n",
       "      <td>1</td>\n",
       "      <td>NaN</td>\n",
       "      <td>Afghanistan</td>\n",
       "      <td>2020-01-22</td>\n",
       "      <td>0</td>\n",
       "      <td>0</td>\n",
       "    </tr>\n",
       "    <tr>\n",
       "      <th>1</th>\n",
       "      <td>2</td>\n",
       "      <td>NaN</td>\n",
       "      <td>Afghanistan</td>\n",
       "      <td>2020-01-23</td>\n",
       "      <td>0</td>\n",
       "      <td>0</td>\n",
       "    </tr>\n",
       "    <tr>\n",
       "      <th>2</th>\n",
       "      <td>3</td>\n",
       "      <td>NaN</td>\n",
       "      <td>Afghanistan</td>\n",
       "      <td>2020-01-24</td>\n",
       "      <td>0</td>\n",
       "      <td>0</td>\n",
       "    </tr>\n",
       "    <tr>\n",
       "      <th>3</th>\n",
       "      <td>4</td>\n",
       "      <td>NaN</td>\n",
       "      <td>Afghanistan</td>\n",
       "      <td>2020-01-25</td>\n",
       "      <td>0</td>\n",
       "      <td>0</td>\n",
       "    </tr>\n",
       "    <tr>\n",
       "      <th>4</th>\n",
       "      <td>5</td>\n",
       "      <td>NaN</td>\n",
       "      <td>Afghanistan</td>\n",
       "      <td>2020-01-26</td>\n",
       "      <td>0</td>\n",
       "      <td>0</td>\n",
       "    </tr>\n",
       "    <tr>\n",
       "      <th>...</th>\n",
       "      <td>...</td>\n",
       "      <td>...</td>\n",
       "      <td>...</td>\n",
       "      <td>...</td>\n",
       "      <td>...</td>\n",
       "      <td>...</td>\n",
       "    </tr>\n",
       "    <tr>\n",
       "      <th>19105</th>\n",
       "      <td>29361</td>\n",
       "      <td>NaN</td>\n",
       "      <td>Zimbabwe</td>\n",
       "      <td>2020-03-22</td>\n",
       "      <td>3</td>\n",
       "      <td>0</td>\n",
       "    </tr>\n",
       "    <tr>\n",
       "      <th>19106</th>\n",
       "      <td>29362</td>\n",
       "      <td>NaN</td>\n",
       "      <td>Zimbabwe</td>\n",
       "      <td>2020-03-23</td>\n",
       "      <td>3</td>\n",
       "      <td>1</td>\n",
       "    </tr>\n",
       "    <tr>\n",
       "      <th>19107</th>\n",
       "      <td>29363</td>\n",
       "      <td>NaN</td>\n",
       "      <td>Zimbabwe</td>\n",
       "      <td>2020-03-24</td>\n",
       "      <td>3</td>\n",
       "      <td>1</td>\n",
       "    </tr>\n",
       "    <tr>\n",
       "      <th>19108</th>\n",
       "      <td>29364</td>\n",
       "      <td>NaN</td>\n",
       "      <td>Zimbabwe</td>\n",
       "      <td>2020-03-25</td>\n",
       "      <td>3</td>\n",
       "      <td>1</td>\n",
       "    </tr>\n",
       "    <tr>\n",
       "      <th>19109</th>\n",
       "      <td>29365</td>\n",
       "      <td>NaN</td>\n",
       "      <td>Zimbabwe</td>\n",
       "      <td>2020-03-26</td>\n",
       "      <td>3</td>\n",
       "      <td>1</td>\n",
       "    </tr>\n",
       "  </tbody>\n",
       "</table>\n",
       "<p>19110 rows × 6 columns</p>\n",
       "</div>"
      ],
      "text/plain": [
       "          Id Province_State Country_Region        Date  ConfirmedCases  \\\n",
       "0          1            NaN    Afghanistan  2020-01-22               0   \n",
       "1          2            NaN    Afghanistan  2020-01-23               0   \n",
       "2          3            NaN    Afghanistan  2020-01-24               0   \n",
       "3          4            NaN    Afghanistan  2020-01-25               0   \n",
       "4          5            NaN    Afghanistan  2020-01-26               0   \n",
       "...      ...            ...            ...         ...             ...   \n",
       "19105  29361            NaN       Zimbabwe  2020-03-22               3   \n",
       "19106  29362            NaN       Zimbabwe  2020-03-23               3   \n",
       "19107  29363            NaN       Zimbabwe  2020-03-24               3   \n",
       "19108  29364            NaN       Zimbabwe  2020-03-25               3   \n",
       "19109  29365            NaN       Zimbabwe  2020-03-26               3   \n",
       "\n",
       "       Fatalities  \n",
       "0               0  \n",
       "1               0  \n",
       "2               0  \n",
       "3               0  \n",
       "4               0  \n",
       "...           ...  \n",
       "19105           0  \n",
       "19106           1  \n",
       "19107           1  \n",
       "19108           1  \n",
       "19109           1  \n",
       "\n",
       "[19110 rows x 6 columns]"
      ]
     },
     "execution_count": 22,
     "metadata": {},
     "output_type": "execute_result"
    }
   ],
   "source": [
    "train_data"
   ]
  },
  {
   "cell_type": "code",
   "execution_count": 256,
   "metadata": {},
   "outputs": [
    {
     "name": "stderr",
     "output_type": "stream",
     "text": [
      "\n",
      "0it [00:00, ?it/s]\u001b[A\n",
      "1it [00:01,  1.23s/it]\u001b[A\n",
      "2it [00:01,  1.01s/it]\u001b[A\n",
      "3it [00:02,  1.02s/it]\u001b[A\n",
      "4it [00:03,  1.12it/s]\u001b[A\n",
      "5it [00:03,  1.30it/s]\u001b[A\n",
      "6it [00:04,  1.53it/s]\u001b[A\n",
      "7it [00:04,  1.58it/s]\u001b[A\n",
      "8it [00:07,  1.31s/it]\u001b[A\n",
      "9it [00:10,  1.85s/it]\u001b[A\n",
      "10it [00:13,  2.19s/it]\u001b[A\n",
      "11it [00:14,  1.30s/it]\u001b[A\n"
     ]
    }
   ],
   "source": [
    "import requests\n",
    "from tqdm import tqdm\n",
    "\n",
    "def import_data(indicator=\"\",indicator_type=\"\",name=\"\"):\n",
    "    url=\"https://ghoapi.azureedge.net/api/{}\".format(indicator)\n",
    "    data = pd.DataFrame(requests.get(url).json()[\"value\"])\n",
    "    data.drop([col for col in data.columns if data[col].isna().sum() == data.shape[0]],axis=1,inplace=True)\n",
    "    data=data.drop(data[data.NumericValue.isna()].index,axis=0).reset_index(drop=True)\n",
    "    data=data[data.Dim1==indicator_type] if len(indicator_type)>0 else data\n",
    "    data=data[[\"IndicatorCode\",\"SpatialDim\",\"TimeDim\",\"NumericValue\"]].drop_duplicates(subset=[\"IndicatorCode\",\"SpatialDim\"],keep=\"last\").reset_index(drop=True)\n",
    "    data=data[[\"SpatialDim\",\"NumericValue\"]]\n",
    "    data.columns=[\"Shortcut\",name]\n",
    "    \n",
    "    return data\n",
    "\n",
    "def import_who_indicators(indicator_data):\n",
    "    data=[import_data(indicator[\"short_form\"],indicator[\"addition\"],indicator[\"long_form\"]) for _,indicator in tqdm(indicator_data.iterrows())]\n",
    "    return data\n",
    "    \n",
    "who_data_list=import_who_indicators(indicator_data)"
   ]
  },
  {
   "cell_type": "code",
   "execution_count": 257,
   "metadata": {},
   "outputs": [
    {
     "name": "stderr",
     "output_type": "stream",
     "text": [
      "\n",
      "  0%|                                                                                           | 0/11 [00:00<?, ?it/s]\u001b[A\n",
      "100%|██████████████████████████████████████████████████████████████████████████████████| 11/11 [00:00<00:00, 56.73it/s]\u001b[A\n"
     ]
    }
   ],
   "source": [
    "def match_country_code(countrycodes,traindata):\n",
    "    countrycodes=countrycodes[[\"ISO3166-1-Alpha-3\",\"official_name_en\"]]\n",
    "    countrycodes=countrycodes.drop(countrycodes[countrycodes[\"ISO3166-1-Alpha-3\"].isna()].index,axis=0).reset_index(drop=True)\n",
    "    countrycodes.columns = [\"Shortcut\", \"Country_Region\"]\n",
    "    result = traindata.merge(countrycodes,on=\"Country_Region\",how=\"left\").reset_index(drop=True)\n",
    "    return result\n",
    "\n",
    "new_traindata = match_country_code(countrycodes,train_data)\n",
    "\n",
    "def match_dataframes(new_traindata,who_data):\n",
    "    result = new_traindata.merge(who_data,on=\"Shortcut\",how=\"left\")\n",
    "    return result\n",
    "\n",
    "test_traindata = new_traindata.copy()\n",
    "for who_data in tqdm(who_data_list):\n",
    "    test_traindata=match_dataframes(test_traindata,who_data)"
   ]
  },
  {
   "cell_type": "code",
   "execution_count": 259,
   "metadata": {},
   "outputs": [
    {
     "data": {
      "text/plain": [
       "Index(['Id', 'Province_State', 'Country_Region', 'Date', 'ConfirmedCases',\n",
       "       'Fatalities', 'Shortcut',\n",
       "       'Population_using_at_least_basic_sanitation_services_(%)',\n",
       "       'Hospital_beds_(per_10_000_population)',\n",
       "       'Total_expenditure_on_health_as_a_percentage_of_gross_domestic_product',\n",
       "       'Medical_doctors_(per_10_000_population)',\n",
       "       'Nursing_and_midwifery_personnel_(per_10_000_population)',\n",
       "       'Skilled_health_professionals_density_(per_10_000_population)',\n",
       "       'Prevalence_of_smoking_any_tobacco_product_among_persons_aged_>=_15_years',\n",
       "       'Raised_fasting_blood_glucose_(>=7.0_mmol/L_or_on_medication)(age-standardized_estimate)',\n",
       "       'Raised_blood_pressure_(SBP>=140_OR_DBP>=90)_(age-standardized_estimate)',\n",
       "       'Prevalence_of_obesity_among_adults,_BMI_>=_30_(age-standardized_estimate)_(%)',\n",
       "       'Health_Service_Provision'],\n",
       "      dtype='object')"
      ]
     },
     "execution_count": 259,
     "metadata": {},
     "output_type": "execute_result"
    }
   ],
   "source": [
    "test_traindata.columns"
   ]
  },
  {
   "cell_type": "code",
   "execution_count": 254,
   "metadata": {},
   "outputs": [
    {
     "data": {
      "text/plain": [
       "array(['Bolivia', 'Brunei', 'Congo (Brazzaville)', 'Congo (Kinshasa)',\n",
       "       \"Cote d'Ivoire\", 'Diamond Princess', 'Eswatini', 'Iran',\n",
       "       'Korea, South', 'Laos', 'Moldova', 'North Macedonia', 'Russia',\n",
       "       'Syria', 'Tanzania', 'US', 'United Kingdom', 'Venezuela',\n",
       "       'Vietnam'], dtype=object)"
      ]
     },
     "execution_count": 254,
     "metadata": {},
     "output_type": "execute_result"
    }
   ],
   "source": [
    "new_traindata[new_traindata[\"Shortcut\"].isna()][\"Country_Region\"].unique()"
   ]
  },
  {
   "cell_type": "code",
   "execution_count": null,
   "metadata": {},
   "outputs": [],
   "source": []
  }
 ],
 "metadata": {
  "kernelspec": {
   "display_name": "Python 3",
   "language": "python",
   "name": "python3"
  },
  "language_info": {
   "codemirror_mode": {
    "name": "ipython",
    "version": 3
   },
   "file_extension": ".py",
   "mimetype": "text/x-python",
   "name": "python",
   "nbconvert_exporter": "python",
   "pygments_lexer": "ipython3",
   "version": "3.6.5"
  }
 },
 "nbformat": 4,
 "nbformat_minor": 4
}
