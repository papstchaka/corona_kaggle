{
 "cells": [
  {
   "cell_type": "code",
   "execution_count": 11,
   "metadata": {
    "scrolled": true
   },
   "outputs": [
    {
     "name": "stderr",
     "output_type": "stream",
     "text": [
      "11it [00:11,  1.09s/it]\n"
     ]
    }
   ],
   "source": [
    "from data_mining import data\n",
    "d=data()"
   ]
  },
  {
   "cell_type": "code",
   "execution_count": 12,
   "metadata": {},
   "outputs": [
    {
     "name": "stderr",
     "output_type": "stream",
     "text": [
      "100%|██████████| 14/14 [00:00<00:00, 137.31it/s]\n"
     ]
    }
   ],
   "source": [
    "dataset=d.merge_whole_dataset()"
   ]
  },
  {
   "cell_type": "code",
   "execution_count": 13,
   "metadata": {
    "scrolled": true
   },
   "outputs": [
    {
     "data": {
      "text/html": [
       "<div>\n",
       "<style scoped>\n",
       "    .dataframe tbody tr th:only-of-type {\n",
       "        vertical-align: middle;\n",
       "    }\n",
       "\n",
       "    .dataframe tbody tr th {\n",
       "        vertical-align: top;\n",
       "    }\n",
       "\n",
       "    .dataframe thead th {\n",
       "        text-align: right;\n",
       "    }\n",
       "</style>\n",
       "<table border=\"1\" class=\"dataframe\">\n",
       "  <thead>\n",
       "    <tr style=\"text-align: right;\">\n",
       "      <th></th>\n",
       "      <th>Id</th>\n",
       "      <th>Province_State</th>\n",
       "      <th>Country_Region</th>\n",
       "      <th>Date</th>\n",
       "      <th>ConfirmedCases</th>\n",
       "      <th>Fatalities</th>\n",
       "      <th>Shortcut</th>\n",
       "      <th>Population_using_at_least_basic_sanitation_services_(%)</th>\n",
       "      <th>Hospital_beds_(per_10_000_population)</th>\n",
       "      <th>Total_expenditure_on_health_as_a_percentage_of_gross_domestic_product</th>\n",
       "      <th>...</th>\n",
       "      <th>Skilled_health_professionals_density_(per_10_000_population)</th>\n",
       "      <th>Prevalence_of_smoking_any_tobacco_product_among_persons_aged_&gt;=_15_years</th>\n",
       "      <th>Raised_fasting_blood_glucose_(&gt;=7.0_mmol/L_or_on_medication)(age-standardized_estimate)</th>\n",
       "      <th>Raised_blood_pressure_(SBP&gt;=140_OR_DBP&gt;=90)_(age-standardized_estimate)</th>\n",
       "      <th>Prevalence_of_obesity_among_adults,_BMI_&gt;=_30_(age-standardized_estimate)_(%)</th>\n",
       "      <th>Health_Service_Provision</th>\n",
       "      <th>Population ages 65 and above</th>\n",
       "      <th>Pop</th>\n",
       "      <th>Pop_dens</th>\n",
       "      <th>StringencyIndex</th>\n",
       "    </tr>\n",
       "  </thead>\n",
       "  <tbody>\n",
       "    <tr>\n",
       "      <td>3185</td>\n",
       "      <td>4901</td>\n",
       "      <td>Anhui</td>\n",
       "      <td>China</td>\n",
       "      <td>2020-01-22</td>\n",
       "      <td>1</td>\n",
       "      <td>0</td>\n",
       "      <td>CHN</td>\n",
       "      <td>90.79677</td>\n",
       "      <td>42.0</td>\n",
       "      <td>5.54823</td>\n",
       "      <td>...</td>\n",
       "      <td>59.67</td>\n",
       "      <td>1.1</td>\n",
       "      <td>8.8</td>\n",
       "      <td>19.2</td>\n",
       "      <td>5.9</td>\n",
       "      <td>80.0</td>\n",
       "      <td>10.920884</td>\n",
       "      <td>1.392730e+09</td>\n",
       "      <td>148.348833</td>\n",
       "      <td>19.0</td>\n",
       "    </tr>\n",
       "    <tr>\n",
       "      <td>3186</td>\n",
       "      <td>4902</td>\n",
       "      <td>Anhui</td>\n",
       "      <td>China</td>\n",
       "      <td>2020-01-23</td>\n",
       "      <td>9</td>\n",
       "      <td>0</td>\n",
       "      <td>CHN</td>\n",
       "      <td>90.79677</td>\n",
       "      <td>42.0</td>\n",
       "      <td>5.54823</td>\n",
       "      <td>...</td>\n",
       "      <td>59.67</td>\n",
       "      <td>1.1</td>\n",
       "      <td>8.8</td>\n",
       "      <td>19.2</td>\n",
       "      <td>5.9</td>\n",
       "      <td>80.0</td>\n",
       "      <td>10.920884</td>\n",
       "      <td>1.392730e+09</td>\n",
       "      <td>148.348833</td>\n",
       "      <td>43.0</td>\n",
       "    </tr>\n",
       "    <tr>\n",
       "      <td>3187</td>\n",
       "      <td>4903</td>\n",
       "      <td>Anhui</td>\n",
       "      <td>China</td>\n",
       "      <td>2020-01-24</td>\n",
       "      <td>15</td>\n",
       "      <td>0</td>\n",
       "      <td>CHN</td>\n",
       "      <td>90.79677</td>\n",
       "      <td>42.0</td>\n",
       "      <td>5.54823</td>\n",
       "      <td>...</td>\n",
       "      <td>59.67</td>\n",
       "      <td>1.1</td>\n",
       "      <td>8.8</td>\n",
       "      <td>19.2</td>\n",
       "      <td>5.9</td>\n",
       "      <td>80.0</td>\n",
       "      <td>10.920884</td>\n",
       "      <td>1.392730e+09</td>\n",
       "      <td>148.348833</td>\n",
       "      <td>43.0</td>\n",
       "    </tr>\n",
       "    <tr>\n",
       "      <td>3188</td>\n",
       "      <td>4904</td>\n",
       "      <td>Anhui</td>\n",
       "      <td>China</td>\n",
       "      <td>2020-01-25</td>\n",
       "      <td>39</td>\n",
       "      <td>0</td>\n",
       "      <td>CHN</td>\n",
       "      <td>90.79677</td>\n",
       "      <td>42.0</td>\n",
       "      <td>5.54823</td>\n",
       "      <td>...</td>\n",
       "      <td>59.67</td>\n",
       "      <td>1.1</td>\n",
       "      <td>8.8</td>\n",
       "      <td>19.2</td>\n",
       "      <td>5.9</td>\n",
       "      <td>80.0</td>\n",
       "      <td>10.920884</td>\n",
       "      <td>1.392730e+09</td>\n",
       "      <td>148.348833</td>\n",
       "      <td>43.0</td>\n",
       "    </tr>\n",
       "    <tr>\n",
       "      <td>3189</td>\n",
       "      <td>4905</td>\n",
       "      <td>Anhui</td>\n",
       "      <td>China</td>\n",
       "      <td>2020-01-26</td>\n",
       "      <td>60</td>\n",
       "      <td>0</td>\n",
       "      <td>CHN</td>\n",
       "      <td>90.79677</td>\n",
       "      <td>42.0</td>\n",
       "      <td>5.54823</td>\n",
       "      <td>...</td>\n",
       "      <td>59.67</td>\n",
       "      <td>1.1</td>\n",
       "      <td>8.8</td>\n",
       "      <td>19.2</td>\n",
       "      <td>5.9</td>\n",
       "      <td>80.0</td>\n",
       "      <td>10.920884</td>\n",
       "      <td>1.392730e+09</td>\n",
       "      <td>148.348833</td>\n",
       "      <td>71.0</td>\n",
       "    </tr>\n",
       "    <tr>\n",
       "      <td>...</td>\n",
       "      <td>...</td>\n",
       "      <td>...</td>\n",
       "      <td>...</td>\n",
       "      <td>...</td>\n",
       "      <td>...</td>\n",
       "      <td>...</td>\n",
       "      <td>...</td>\n",
       "      <td>...</td>\n",
       "      <td>...</td>\n",
       "      <td>...</td>\n",
       "      <td>...</td>\n",
       "      <td>...</td>\n",
       "      <td>...</td>\n",
       "      <td>...</td>\n",
       "      <td>...</td>\n",
       "      <td>...</td>\n",
       "      <td>...</td>\n",
       "      <td>...</td>\n",
       "      <td>...</td>\n",
       "      <td>...</td>\n",
       "      <td>...</td>\n",
       "    </tr>\n",
       "    <tr>\n",
       "      <td>5325</td>\n",
       "      <td>8161</td>\n",
       "      <td>Zhejiang</td>\n",
       "      <td>China</td>\n",
       "      <td>2020-03-22</td>\n",
       "      <td>1238</td>\n",
       "      <td>1</td>\n",
       "      <td>CHN</td>\n",
       "      <td>90.79677</td>\n",
       "      <td>42.0</td>\n",
       "      <td>5.54823</td>\n",
       "      <td>...</td>\n",
       "      <td>59.67</td>\n",
       "      <td>1.1</td>\n",
       "      <td>8.8</td>\n",
       "      <td>19.2</td>\n",
       "      <td>5.9</td>\n",
       "      <td>80.0</td>\n",
       "      <td>10.920884</td>\n",
       "      <td>1.392730e+09</td>\n",
       "      <td>148.348833</td>\n",
       "      <td>NaN</td>\n",
       "    </tr>\n",
       "    <tr>\n",
       "      <td>5326</td>\n",
       "      <td>8162</td>\n",
       "      <td>Zhejiang</td>\n",
       "      <td>China</td>\n",
       "      <td>2020-03-23</td>\n",
       "      <td>1238</td>\n",
       "      <td>1</td>\n",
       "      <td>CHN</td>\n",
       "      <td>90.79677</td>\n",
       "      <td>42.0</td>\n",
       "      <td>5.54823</td>\n",
       "      <td>...</td>\n",
       "      <td>59.67</td>\n",
       "      <td>1.1</td>\n",
       "      <td>8.8</td>\n",
       "      <td>19.2</td>\n",
       "      <td>5.9</td>\n",
       "      <td>80.0</td>\n",
       "      <td>10.920884</td>\n",
       "      <td>1.392730e+09</td>\n",
       "      <td>148.348833</td>\n",
       "      <td>NaN</td>\n",
       "    </tr>\n",
       "    <tr>\n",
       "      <td>5327</td>\n",
       "      <td>8163</td>\n",
       "      <td>Zhejiang</td>\n",
       "      <td>China</td>\n",
       "      <td>2020-03-24</td>\n",
       "      <td>1240</td>\n",
       "      <td>1</td>\n",
       "      <td>CHN</td>\n",
       "      <td>90.79677</td>\n",
       "      <td>42.0</td>\n",
       "      <td>5.54823</td>\n",
       "      <td>...</td>\n",
       "      <td>59.67</td>\n",
       "      <td>1.1</td>\n",
       "      <td>8.8</td>\n",
       "      <td>19.2</td>\n",
       "      <td>5.9</td>\n",
       "      <td>80.0</td>\n",
       "      <td>10.920884</td>\n",
       "      <td>1.392730e+09</td>\n",
       "      <td>148.348833</td>\n",
       "      <td>NaN</td>\n",
       "    </tr>\n",
       "    <tr>\n",
       "      <td>5328</td>\n",
       "      <td>8164</td>\n",
       "      <td>Zhejiang</td>\n",
       "      <td>China</td>\n",
       "      <td>2020-03-25</td>\n",
       "      <td>1241</td>\n",
       "      <td>1</td>\n",
       "      <td>CHN</td>\n",
       "      <td>90.79677</td>\n",
       "      <td>42.0</td>\n",
       "      <td>5.54823</td>\n",
       "      <td>...</td>\n",
       "      <td>59.67</td>\n",
       "      <td>1.1</td>\n",
       "      <td>8.8</td>\n",
       "      <td>19.2</td>\n",
       "      <td>5.9</td>\n",
       "      <td>80.0</td>\n",
       "      <td>10.920884</td>\n",
       "      <td>1.392730e+09</td>\n",
       "      <td>148.348833</td>\n",
       "      <td>NaN</td>\n",
       "    </tr>\n",
       "    <tr>\n",
       "      <td>5329</td>\n",
       "      <td>8165</td>\n",
       "      <td>Zhejiang</td>\n",
       "      <td>China</td>\n",
       "      <td>2020-03-26</td>\n",
       "      <td>1243</td>\n",
       "      <td>1</td>\n",
       "      <td>CHN</td>\n",
       "      <td>90.79677</td>\n",
       "      <td>42.0</td>\n",
       "      <td>5.54823</td>\n",
       "      <td>...</td>\n",
       "      <td>59.67</td>\n",
       "      <td>1.1</td>\n",
       "      <td>8.8</td>\n",
       "      <td>19.2</td>\n",
       "      <td>5.9</td>\n",
       "      <td>80.0</td>\n",
       "      <td>10.920884</td>\n",
       "      <td>1.392730e+09</td>\n",
       "      <td>148.348833</td>\n",
       "      <td>NaN</td>\n",
       "    </tr>\n",
       "  </tbody>\n",
       "</table>\n",
       "<p>2145 rows × 22 columns</p>\n",
       "</div>"
      ],
      "text/plain": [
       "        Id Province_State Country_Region        Date  ConfirmedCases  \\\n",
       "3185  4901          Anhui          China  2020-01-22               1   \n",
       "3186  4902          Anhui          China  2020-01-23               9   \n",
       "3187  4903          Anhui          China  2020-01-24              15   \n",
       "3188  4904          Anhui          China  2020-01-25              39   \n",
       "3189  4905          Anhui          China  2020-01-26              60   \n",
       "...    ...            ...            ...         ...             ...   \n",
       "5325  8161       Zhejiang          China  2020-03-22            1238   \n",
       "5326  8162       Zhejiang          China  2020-03-23            1238   \n",
       "5327  8163       Zhejiang          China  2020-03-24            1240   \n",
       "5328  8164       Zhejiang          China  2020-03-25            1241   \n",
       "5329  8165       Zhejiang          China  2020-03-26            1243   \n",
       "\n",
       "      Fatalities Shortcut  \\\n",
       "3185           0      CHN   \n",
       "3186           0      CHN   \n",
       "3187           0      CHN   \n",
       "3188           0      CHN   \n",
       "3189           0      CHN   \n",
       "...          ...      ...   \n",
       "5325           1      CHN   \n",
       "5326           1      CHN   \n",
       "5327           1      CHN   \n",
       "5328           1      CHN   \n",
       "5329           1      CHN   \n",
       "\n",
       "      Population_using_at_least_basic_sanitation_services_(%)  \\\n",
       "3185                                           90.79677         \n",
       "3186                                           90.79677         \n",
       "3187                                           90.79677         \n",
       "3188                                           90.79677         \n",
       "3189                                           90.79677         \n",
       "...                                                 ...         \n",
       "5325                                           90.79677         \n",
       "5326                                           90.79677         \n",
       "5327                                           90.79677         \n",
       "5328                                           90.79677         \n",
       "5329                                           90.79677         \n",
       "\n",
       "      Hospital_beds_(per_10_000_population)  \\\n",
       "3185                                   42.0   \n",
       "3186                                   42.0   \n",
       "3187                                   42.0   \n",
       "3188                                   42.0   \n",
       "3189                                   42.0   \n",
       "...                                     ...   \n",
       "5325                                   42.0   \n",
       "5326                                   42.0   \n",
       "5327                                   42.0   \n",
       "5328                                   42.0   \n",
       "5329                                   42.0   \n",
       "\n",
       "      Total_expenditure_on_health_as_a_percentage_of_gross_domestic_product  \\\n",
       "3185                                            5.54823                       \n",
       "3186                                            5.54823                       \n",
       "3187                                            5.54823                       \n",
       "3188                                            5.54823                       \n",
       "3189                                            5.54823                       \n",
       "...                                                 ...                       \n",
       "5325                                            5.54823                       \n",
       "5326                                            5.54823                       \n",
       "5327                                            5.54823                       \n",
       "5328                                            5.54823                       \n",
       "5329                                            5.54823                       \n",
       "\n",
       "      ...  Skilled_health_professionals_density_(per_10_000_population)  \\\n",
       "3185  ...                                              59.67              \n",
       "3186  ...                                              59.67              \n",
       "3187  ...                                              59.67              \n",
       "3188  ...                                              59.67              \n",
       "3189  ...                                              59.67              \n",
       "...   ...                                                ...              \n",
       "5325  ...                                              59.67              \n",
       "5326  ...                                              59.67              \n",
       "5327  ...                                              59.67              \n",
       "5328  ...                                              59.67              \n",
       "5329  ...                                              59.67              \n",
       "\n",
       "      Prevalence_of_smoking_any_tobacco_product_among_persons_aged_>=_15_years  \\\n",
       "3185                                                1.1                          \n",
       "3186                                                1.1                          \n",
       "3187                                                1.1                          \n",
       "3188                                                1.1                          \n",
       "3189                                                1.1                          \n",
       "...                                                 ...                          \n",
       "5325                                                1.1                          \n",
       "5326                                                1.1                          \n",
       "5327                                                1.1                          \n",
       "5328                                                1.1                          \n",
       "5329                                                1.1                          \n",
       "\n",
       "      Raised_fasting_blood_glucose_(>=7.0_mmol/L_or_on_medication)(age-standardized_estimate)  \\\n",
       "3185                                                8.8                                         \n",
       "3186                                                8.8                                         \n",
       "3187                                                8.8                                         \n",
       "3188                                                8.8                                         \n",
       "3189                                                8.8                                         \n",
       "...                                                 ...                                         \n",
       "5325                                                8.8                                         \n",
       "5326                                                8.8                                         \n",
       "5327                                                8.8                                         \n",
       "5328                                                8.8                                         \n",
       "5329                                                8.8                                         \n",
       "\n",
       "      Raised_blood_pressure_(SBP>=140_OR_DBP>=90)_(age-standardized_estimate)  \\\n",
       "3185                                               19.2                         \n",
       "3186                                               19.2                         \n",
       "3187                                               19.2                         \n",
       "3188                                               19.2                         \n",
       "3189                                               19.2                         \n",
       "...                                                 ...                         \n",
       "5325                                               19.2                         \n",
       "5326                                               19.2                         \n",
       "5327                                               19.2                         \n",
       "5328                                               19.2                         \n",
       "5329                                               19.2                         \n",
       "\n",
       "      Prevalence_of_obesity_among_adults,_BMI_>=_30_(age-standardized_estimate)_(%)  \\\n",
       "3185                                                5.9                               \n",
       "3186                                                5.9                               \n",
       "3187                                                5.9                               \n",
       "3188                                                5.9                               \n",
       "3189                                                5.9                               \n",
       "...                                                 ...                               \n",
       "5325                                                5.9                               \n",
       "5326                                                5.9                               \n",
       "5327                                                5.9                               \n",
       "5328                                                5.9                               \n",
       "5329                                                5.9                               \n",
       "\n",
       "      Health_Service_Provision  Population ages 65 and above           Pop  \\\n",
       "3185                      80.0                     10.920884  1.392730e+09   \n",
       "3186                      80.0                     10.920884  1.392730e+09   \n",
       "3187                      80.0                     10.920884  1.392730e+09   \n",
       "3188                      80.0                     10.920884  1.392730e+09   \n",
       "3189                      80.0                     10.920884  1.392730e+09   \n",
       "...                        ...                           ...           ...   \n",
       "5325                      80.0                     10.920884  1.392730e+09   \n",
       "5326                      80.0                     10.920884  1.392730e+09   \n",
       "5327                      80.0                     10.920884  1.392730e+09   \n",
       "5328                      80.0                     10.920884  1.392730e+09   \n",
       "5329                      80.0                     10.920884  1.392730e+09   \n",
       "\n",
       "        Pop_dens  StringencyIndex  \n",
       "3185  148.348833             19.0  \n",
       "3186  148.348833             43.0  \n",
       "3187  148.348833             43.0  \n",
       "3188  148.348833             43.0  \n",
       "3189  148.348833             71.0  \n",
       "...          ...              ...  \n",
       "5325  148.348833              NaN  \n",
       "5326  148.348833              NaN  \n",
       "5327  148.348833              NaN  \n",
       "5328  148.348833              NaN  \n",
       "5329  148.348833              NaN  \n",
       "\n",
       "[2145 rows x 22 columns]"
      ]
     },
     "execution_count": 13,
     "metadata": {},
     "output_type": "execute_result"
    }
   ],
   "source": [
    "dataset[dataset[\"Country_Region\"]==\"China\"]"
   ]
  },
  {
   "cell_type": "code",
   "execution_count": 14,
   "metadata": {},
   "outputs": [],
   "source": [
    "germany = dataset[dataset[\"Country_Region\"]==\"Germany\"]"
   ]
  },
  {
   "cell_type": "code",
   "execution_count": null,
   "metadata": {},
   "outputs": [],
   "source": []
  },
  {
   "cell_type": "code",
   "execution_count": 15,
   "metadata": {},
   "outputs": [],
   "source": [
    "import pandas as pd\n",
    "import numpy as np\n",
    "import matplotlib.pyplot as plt\n",
    "from pathlib import Path\n",
    "import os\n",
    "from tqdm.notebook import tqdm\n",
    "from scipy.integrate import solve_ivp\n",
    "from scipy.optimize import minimize\n",
    "from sklearn.metrics import mean_squared_log_error, mean_squared_error\n",
    "import datetime\n",
    "from datetime import timedelta\n",
    "\n",
    "%matplotlib inline"
   ]
  },
  {
   "cell_type": "code",
   "execution_count": 16,
   "metadata": {},
   "outputs": [],
   "source": [
    "def plot_model_and_predict(data, pop, solution, title='SEIR model'):\n",
    "    sus, exp, inf, rec = solution.y\n",
    "    \n",
    "    f = plt.figure(figsize=(16,5))\n",
    "    ax = f.add_subplot(1,2,1)\n",
    "    #ax.plot(sus, 'b', label='Susceptible');\n",
    "    ax.plot(exp, 'y', label='Exposed');\n",
    "    ax.plot(inf, 'r', label='Infected');\n",
    "    ax.plot(rec, 'c', label='Recovered/deceased');\n",
    "    plt.title(title)\n",
    "    plt.xlabel(\"Days\", fontsize=10);\n",
    "    plt.ylabel(\"Fraction of population\", fontsize=10);\n",
    "    plt.legend(loc='best');\n",
    "    \n",
    "    ax2 = f.add_subplot(1,2,2)\n",
    "    preds = np.clip((inf + rec) * pop ,0,np.inf)\n",
    "    ax2.plot(range(len(data)),preds[:len(data)],label = 'Predict ConfirmedCases')\n",
    "    ax2.plot(range(len(data)),data['ConfirmedCases'])\n",
    "    plt.title('Model predict and data')\n",
    "    plt.ylabel(\"Population\", fontsize=10);\n",
    "    plt.xlabel(\"Days\", fontsize=10);\n",
    "    plt.legend(loc='best');"
   ]
  },
  {
   "cell_type": "code",
   "execution_count": 17,
   "metadata": {},
   "outputs": [],
   "source": [
    "# Function code refernece from https://www.kaggle.com/anjum48/seir-model-with-intervention\n",
    "\n",
    "# Susceptible equation\n",
    "def dS_dt(S, I, R_t, T_inf):\n",
    "    return -(R_t / T_inf) * I * S\n",
    "\n",
    "# Exposed equation\n",
    "def dE_dt(S, E, I, R_t, T_inf, T_inc):\n",
    "    return (R_t / T_inf) * I * S - (T_inc**-1) * E\n",
    "\n",
    "# Infected equation\n",
    "def dI_dt(I, E, T_inc, T_inf):\n",
    "    return (T_inc**-1) * E - (T_inf**-1) * I\n",
    "\n",
    "# Recovered/Remove/deceased equation\n",
    "def dR_dt(I, T_inf):\n",
    "    return (T_inf**-1) * I\n",
    "\n",
    "def SEIR_model(t, y, R_t, T_inf, T_inc):\n",
    "    \n",
    "    if callable(R_t):\n",
    "        reproduction = R_t(t)\n",
    "    else:\n",
    "        reproduction = R_t\n",
    "        \n",
    "    S, E, I, R = y\n",
    "    \n",
    "    S_out = dS_dt(S, I, reproduction, T_inf)\n",
    "    E_out = dE_dt(S, E, I, reproduction, T_inf, T_inc)\n",
    "    I_out = dI_dt(I, E, T_inc, T_inf)\n",
    "    R_out = dR_dt(I, T_inf)\n",
    "    \n",
    "    return [S_out, E_out, I_out, R_out]"
   ]
  },
  {
   "cell_type": "code",
   "execution_count": 18,
   "metadata": {},
   "outputs": [],
   "source": [
    "def cumsum_signal(vec):\n",
    "    temp_val = 0\n",
    "    vec_new = []\n",
    "    for i in vec:\n",
    "        if i > temp_val:\n",
    "            vec_new.append(i)\n",
    "            temp_val = i\n",
    "        else:\n",
    "            vec_new.append(temp_val)\n",
    "    return vec_new"
   ]
  },
  {
   "cell_type": "code",
   "execution_count": 19,
   "metadata": {},
   "outputs": [],
   "source": [
    "datapath=\"../data/\"\n",
    "train = pd.read_csv(datapath + \"train.csv\")\n",
    "test = pd.read_csv(datapath + \"test.csv\")\n",
    "train['Date_datetime'] = train['Date'].apply(lambda x: (datetime.datetime.strptime(x, '%Y-%m-%d')))\n",
    "\n",
    "#pop_info = pd.read_csv('/kaggle/input/covid19-population-data/population_data.csv')\n",
    "#country_pop = pop_info.query('Type == \"Country/Region\"')\n",
    "#province_pop = pop_info.query('Type == \"Province/State\"')\n",
    "#country_lookup = dict(zip(country_pop['Name'], country_pop['Population']))\n",
    "#province_lookup = dict(zip(province_pop['Name'], province_pop['Population']))"
   ]
  },
  {
   "cell_type": "code",
   "execution_count": 20,
   "metadata": {},
   "outputs": [],
   "source": [
    "# Use a constant reproduction number\n",
    "def eval_model_const(params, data, population, return_solution=False, forecast_days=0):\n",
    "    R_0, cfr = params # Paramaters, R0 and cfr \n",
    "    N = population # Population of each country\n",
    "    n_infected = data['ConfirmedCases'].iloc[0] # start from first comfirmedcase on dataset first date\n",
    "    max_days = len(data) + forecast_days # How many days want to predict\n",
    "    s, e, i, r = (N - n_infected)/ N, 0, n_infected / N, 0 #Initial stat for SEIR model\n",
    "    \n",
    "    # R0 become half after intervention days\n",
    "    def time_varying_reproduction(t):\n",
    "        if t > 80: # we set intervention days = 80\n",
    "            return R_0 * 0.5\n",
    "        else:\n",
    "            return R_0\n",
    "    \n",
    "    # Solve the SEIR differential equation.\n",
    "    #sol = solve_ivp(SEIR_model, [0, max_days], [s, e, i, r], args=(time_varying_reproduction, T_inf, T_inc),\n",
    "    #                t_eval=np.arange(0, max_days))\n",
    "    \n",
    "    sol = solve_ivp(fun=lambda t,y:SEIR_model(t, y, time_varying_reproduction, T_inf, T_inc),\n",
    "                     t_span=[0, max_days],y0=[s, e, i, r], t_eval=np.arange(max_days))\n",
    "    \n",
    "    #sol2 = solve_ivp(SEIR_model, [0, max_days], [a, b, c, d], args=(time_varying_reproduction, T_inf, T_inc), \n",
    "    #            t_eval=np.arange(max_days))\n",
    "    \n",
    "    \n",
    "    \n",
    "    sus, exp, inf, rec = sol.y\n",
    "    # Predict confirmedcase\n",
    "    y_pred_cases = np.clip((inf + rec) * N ,0,np.inf)\n",
    "    y_true_cases = data['ConfirmedCases'].values\n",
    "    \n",
    "    # Predict Fatalities by remove * fatality rate(cfr)\n",
    "    y_pred_fat = np.clip(rec*N* cfr, 0, np.inf)\n",
    "    y_true_fat = data['Fatalities'].values\n",
    "    \n",
    "    optim_days = min(20, len(data))  # Days to optimise for\n",
    "    weights = 1 / np.arange(1, optim_days+1)[::-1]  # Recent data is more heavily weighted\n",
    "    \n",
    "    # using mean squre log error to evaluate\n",
    "    msle_cases = mean_squared_log_error(y_true_cases[-optim_days:], y_pred_cases[-optim_days:], weights)\n",
    "    msle_fat = mean_squared_log_error(y_true_fat[-optim_days:], y_pred_fat[-optim_days:], weights)\n",
    "    msle_final = np.mean([msle_cases, msle_fat])\n",
    "    \n",
    "    if return_solution:\n",
    "        return msle_final, sol\n",
    "    else:\n",
    "        return msle_final"
   ]
  },
  {
   "cell_type": "code",
   "execution_count": 25,
   "metadata": {},
   "outputs": [],
   "source": [
    "from matplotlib import dates\n",
    "import plotly.graph_objects as go\n",
    "\n",
    "def fit_model_new(data, area_name, initial_guess=[2.2, 0.02, 2, 50], \n",
    "              bounds=((1, 20), (0, 0.15), (1, 3), (1, 100)), make_plot=True, decay_mode = None):\n",
    "    \n",
    "    if area_name in ['France']:# France last data looks weird, remove it\n",
    "        train_data = data.query('ConfirmedCases > 0').copy()[:-1]\n",
    "    else:\n",
    "        train_data = data.query('ConfirmedCases > 0').copy()\n",
    "        \n",
    "    ####### If this country have no ConfirmedCase, return 0 #######\n",
    "    if len(train_data) == 0:\n",
    "        result_zero = np.zeros((43))\n",
    "        return pd.DataFrame({'ConfirmedCases':result_zero,'Fatalities':result_zero}), 0 \n",
    "    \n",
    "    ####### Load the population of area #######\n",
    "    #try:\n",
    "        #population = province_lookup[area_name]\n",
    "    #    population = pop_info[pop_info['Name']==area_name]['Population'].tolist()[0]\n",
    "    #except IndexError:\n",
    "    #    print ('country not in population set, '+str(area_name))\n",
    "    #    population = 1000000 \n",
    "    \n",
    "    \n",
    "    #if area_name == 'US':\n",
    "    population = 82200000\n",
    "        \n",
    "    cases_per_million = train_data['ConfirmedCases'].max() * 10**6 / population\n",
    "    n_infected = train_data['ConfirmedCases'].iloc[0]\n",
    "    \n",
    "    ####### Total case/popuplation below 1, reduce country population #######\n",
    "    if cases_per_million < 1:\n",
    "        #print ('reduce pop divide by 100')\n",
    "        population = population/100\n",
    "        \n",
    "    ####### Fit the real data by minimize the MSLE #######\n",
    "    res_const = minimize(eval_model_const, [2.2, 0.02], bounds=((1, 20), (0, 0.15)),\n",
    "                         args=(train_data, population, False),\n",
    "                         method='L-BFGS-B')\n",
    "\n",
    "    #res_decay = minimize(eval_model_decay, initial_guess, bounds=bounds,\n",
    "    #                     args=(train_data, population, False),\n",
    "    #                     method='L-BFGS-B')\n",
    "    \n",
    "    ####### Align the date information #######\n",
    "    test_end = datetime.datetime.strptime('2020-04-30','%Y-%m-%d')\n",
    "    test_start = datetime.datetime.strptime('2020-03-12','%Y-%m-%d')\n",
    "    train_max = train_data.Date_datetime.max()\n",
    "    train_min = train_data.Date_datetime.min()\n",
    "    add_date = 0\n",
    "    delta_days =(test_end - train_max).days\n",
    "    train_add_time=[]\n",
    "\n",
    "    if train_min > test_start:\n",
    "        add_date = (train_min-test_start).days\n",
    "        last = train_min-timedelta(add_date)\n",
    "        train_add_time = np.arange(last, train_min, dtype='datetime64[D]').tolist()\n",
    "        train_add_time = pd.to_datetime(train_add_time)\n",
    "        dates_all = train_add_time.append(pd.to_datetime(np.arange(train_min, test_end+timedelta(1), dtype='datetime64[D]')))\n",
    "    else:\n",
    "        dates_all = pd.to_datetime(np.arange(train_min, test_end+timedelta(1), dtype='datetime64[D]'))\n",
    "\n",
    "\n",
    "    ####### Auto find the best decay function ####### \n",
    "   #if decay_mode is None:\n",
    "   #    if res_const.fun < res_decay.fun :\n",
    "    msle, sol = eval_model_const(res_const.x, train_data, population, True, delta_days+add_date)\n",
    "    res = res_const\n",
    "\n",
    "   #    else:\n",
    "   #        msle, sol = eval_model_decay(res_decay.x, train_data, population, True, delta_days+add_date)\n",
    "   #        res = res_decay\n",
    "   #        R_0, cfr, k, L = res.x\n",
    "   #else:\n",
    "   #    if decay_mode =='day_decay':\n",
    "   #        msle, sol = eval_model_const(res_const.x, train_data, population, True, delta_days+add_date)\n",
    "   #        res = res_const\n",
    "   #    else:\n",
    "   #        msle, sol = eval_model_decay(res_decay.x, train_data, population, True, delta_days+add_date)\n",
    "   #        res = res_decay\n",
    "   #        R_0, cfr, k, L = res.x\n",
    "\n",
    "    ####### Predict the result by using best fit paramater of SEIR model ####### \n",
    "    sus, exp, inf, rec = sol.y\n",
    "    \n",
    "    y_pred = pd.DataFrame({\n",
    "        'ConfirmedCases': cumsum_signal((np.clip((inf + rec) * population,0,np.inf)).tolist()),\n",
    "       # 'ConfirmedCases': [inf[0]*population for i in range(add_date)]+(np.clip((inf + rec) * population,0,np.inf)).tolist(),\n",
    "       # 'Fatalities': [rec[0]*population for i in range(add_date)]+(np.clip(rec, 0, np.inf) * population * res.x[1]).tolist()\n",
    "        'Fatalities': cumsum_signal((np.clip(rec * population * res.x[1], 0, np.inf)).tolist())\n",
    "    })\n",
    "\n",
    "    y_pred_valid = y_pred.iloc[:len(train_data)]\n",
    "    y_pred_test = y_pred.iloc[-43:]\n",
    "    y_true_valid = train_data[['ConfirmedCases', 'Fatalities']]\n",
    "    \n",
    "    ####### Calculate MSLE ####### \n",
    "    valid_msle_cases = mean_squared_log_error(y_true_valid['ConfirmedCases'], y_pred_valid['ConfirmedCases'])\n",
    "    valid_msle_fat = mean_squared_log_error(y_true_valid['Fatalities'], y_pred_valid['Fatalities'])\n",
    "    valid_msle = np.mean([valid_msle_cases, valid_msle_fat])\n",
    "    \n",
    "    ####### Plot the fit result of train data and forecast after 300 days ####### \n",
    "    if make_plot:\n",
    "        if len(res.x)<=2:\n",
    "            print(f'Validation MSLE: {valid_msle:0.5f}, using intervention days decay, Reproduction number(R0) : {res.x[0]:0.5f}, Fatal rate : {res.x[1]:0.5f}')\n",
    "        else:\n",
    "            print(f'Validation MSLE: {valid_msle:0.5f}, using Hill decay, Reproduction number(R0) : {res.x[0]:0.5f}, Fatal rate : {res.x[1]:0.5f}, K : {res.x[2]:0.5f}, L: {res.x[3]:0.5f}')\n",
    "        \n",
    "        ####### Plot the fit result of train data dna SEIR model trends #######\n",
    "\n",
    "        f = plt.figure(figsize=(16,5))\n",
    "        ax = f.add_subplot(1,2,1)\n",
    "        ax.plot(exp, 'y', label='Exposed');\n",
    "        ax.plot(inf, 'r', label='Infected');\n",
    "        ax.plot(rec, 'c', label='Recovered/deceased');\n",
    "        plt.title('SEIR Model Trends')\n",
    "        plt.xlabel(\"Days\", fontsize=10);\n",
    "        plt.ylabel(\"Fraction of population\", fontsize=10);\n",
    "        plt.legend(loc='best');\n",
    "        \n",
    "        #train_date_remove_year = train_data['Date_datetime'].apply(lambda date:'{:%m-%d}'.format(date))\n",
    "        ax2 = f.add_subplot(1,2,2)\n",
    "        xaxis = train_data['Date_datetime'].tolist()\n",
    "        xaxis = dates.date2num(xaxis)\n",
    "        hfmt = dates.DateFormatter('%m\\n%d')\n",
    "        ax2.xaxis.set_major_formatter(hfmt)\n",
    "        ax2.plot(np.array(train_data['Date_datetime'], dtype='datetime64[D]'),train_data['ConfirmedCases'],label='Confirmed Cases (train)', c='g')\n",
    "        ax2.plot(np.array(train_data['Date_datetime'], dtype='datetime64[D]'), y_pred['ConfirmedCases'][:len(train_data)],label='Cumulative modeled infections', c='r')\n",
    "        plt.title('Real ConfirmedCase and Predict ConfirmedCase')\n",
    "        plt.legend(loc='best');\n",
    "        plt.show()\n",
    "            \n",
    "        ####### Forecast 300 days after by using the best paramater of train data #######\n",
    "        if len(res.x)>2:\n",
    "            msle, sol = eval_model_decay(res.x, train_data, population, True, 300)\n",
    "        else:\n",
    "            msle, sol = eval_model_const(res.x, train_data, population, True, 300)\n",
    "        \n",
    "        sus, exp, inf, rec = sol.y\n",
    "        \n",
    "        y_pred = pd.DataFrame({\n",
    "            'ConfirmedCases': cumsum_signal(np.diff((inf + rec) * population, prepend=n_infected).cumsum()),\n",
    "            'Fatalities': cumsum_signal(np.clip(rec, 0, np.inf) * population * res.x[1])\n",
    "        })\n",
    "        \n",
    "        ####### Plot 300 days after of each country #######\n",
    "        start = train_min\n",
    "        end = start + timedelta(len(y_pred))\n",
    "        time_array = np.arange(start, end, dtype='datetime64[D]')\n",
    "\n",
    "        max_day = np.where(inf == np.amax(inf))[0][0]\n",
    "        where_time = time_array[max_day]\n",
    "        pred_max_day = y_pred['ConfirmedCases'][max_day]\n",
    "        xy_show_max_estimation = (where_time, max_day)\n",
    "        \n",
    "        con = y_pred['ConfirmedCases']\n",
    "        max_day_con = np.where(con == np.amax(con))[0][0] # Find the max confimed case of each country\n",
    "        max_con = np.amax(con)\n",
    "        where_time_con = time_array[len(time_array)-50]\n",
    "        xy_show_max_estimation_confirmed = (where_time_con, max_con)\n",
    "        \n",
    "        fig = go.Figure()\n",
    "        fig.add_trace(go.Scatter(x=time_array, y=y_pred['ConfirmedCases'].astype(int),\n",
    "                            mode='lines',\n",
    "                            line = dict(color='red'),\n",
    "                            name='Estimation Confirmed Case Start from '+ str(start.date())+ ' to ' +str(end.date())))\n",
    "        fig.add_trace(go.Scatter(x=time_array[:len(train_data)], y=train_data['ConfirmedCases'],\n",
    "                            mode='lines',\n",
    "                            name='Confirmed case until '+ str(train_max.date()),line = dict(color='green', width=4)))\n",
    "        fig.add_annotation(\n",
    "            x=where_time_con,\n",
    "            y=max_con-(max_con/30),\n",
    "            showarrow=False,\n",
    "            text=\"Estimate Max Case around:\" +str(int(max_con)),\n",
    "            font=dict(\n",
    "                color=\"Blue\",\n",
    "                size=15\n",
    "            ))\n",
    "        fig.add_annotation(\n",
    "            x=time_array[len(train_data)-1],\n",
    "            y=train_data['ConfirmedCases'].tolist()[-1],\n",
    "            showarrow=True,\n",
    "            text=f\"Real Max ConfirmedCase: \" +str(int(train_data['ConfirmedCases'].tolist()[-1]))) \n",
    "        \n",
    "        fig.add_annotation(\n",
    "            x=where_time,\n",
    "            y=pred_max_day,\n",
    "            text='Infect start decrease from: ' + str(where_time))   \n",
    "        fig.update_layout(title='Estimate Confirmed Case ,'+area_name+' Total population ='+ str(int(population)), legend_orientation=\"h\")\n",
    "        fig.show()\n",
    "        \n",
    "        #df = pd.DataFrame({'Values': train_data['ConfirmedCases'].tolist()+y_pred['ConfirmedCases'].tolist(),'Date_datatime':time_array[:len(train_data)].tolist()+time_array.tolist(),\n",
    "        #           'Real/Predict': ['ConfirmedCase' for i in range(len(train_data))]+['PredictCase' for i in range(len(y_pred))]})\n",
    "        #fig = px.line(df, x=\"Date_datatime\", y=\"Values\",color = 'Real/Predict')\n",
    "        #fig.show()\n",
    "        #plt.figure(figsize = (16,7))\n",
    "        #plt.plot(time_array[:len(train_data)],train_data['ConfirmedCases'],label='Confirmed case until '+ str(train_max.date()),color='g', linewidth=3.0)\n",
    "        #plt.plot(time_array,y_pred['ConfirmedCases'],label='Estimation Confirmed Case Start from '+ str(start.date())+ ' to ' +str(end.date()),color='r', linewidth=1.0)\n",
    "        #plt.annotate('Infect start decrease from: ' + str(where_time), xy=xy_show_max_estimation, size=15, color=\"black\")\n",
    "        #plt.annotate('max Confirmedcase: ' + str(int(max_con)), xy=xy_show_max_estimation_confirmed, size=15, color=\"black\")\n",
    "        #plt.title('Estimate Confirmed Case '+area_name+' Total population ='+ str(int(population)))\n",
    "        #plt.legend(loc='lower right')\n",
    "        #plt.show()\n",
    "\n",
    "\n",
    "    return y_pred_test, valid_msle"
   ]
  },
  {
   "cell_type": "code",
   "execution_count": 26,
   "metadata": {},
   "outputs": [
    {
     "name": "stdout",
     "output_type": "stream",
     "text": [
      "Validation MSLE: 1.00564, using intervention days decay, Reproduction number(R0) : 2.93452, Fatal rate : 0.00567\n"
     ]
    },
    {
     "data": {
      "image/png": "[encoded data removed]",
      "text/plain": [
       "<Figure size 1152x360 with 2 Axes>"
      ]
     },
     "metadata": {
      "needs_background": "light"
     },
     "output_type": "display_data"
    },
    {
     "data": {
      "application/vnd.plotly.v1+json": {
       "config": {
        "plotlyServerURL": "https://plot.ly"
       },
       "data": [
        {
         "line": {
          "color": "red"
         },
         "mode": "lines",
         "name": "Estimation Confirmed Case Start from 2020-01-27 to 2021-01-21",
         "type": "scatter",
         "x": [
          "2020-01-27",
          "2020-01-28",
          "2020-01-29",
          "2020-01-30",
          "2020-01-31",
          "2020-02-01",
          "2020-02-02",
          "2020-02-03",
          "2020-02-04",
          "2020-02-05",
          "2020-02-06",
          "2020-02-07",
          "2020-02-08",
          "2020-02-09",
          "2020-02-10",
          "2020-02-11",
          "2020-02-12",
          "2020-02-13",
          "2020-02-14",
          "2020-02-15",
          "2020-02-16",
          "2020-02-17",
          "2020-02-18",
          "2020-02-19",
          "2020-02-20",
          "2020-02-21",
          "2020-02-22",
          "2020-02-23",
          "2020-02-24",
          "2020-02-25",
          "2020-02-26",
          "2020-02-27",
          "2020-02-28",
          "2020-02-29",
          "2020-03-01",
          "2020-03-02",
          "2020-03-03",
          "2020-03-04",
          "2020-03-05",
          "2020-03-06",
          "2020-03-07",
          "2020-03-08",
          "2020-03-09",
          "2020-03-10",
          "2020-03-11",
          "2020-03-12",
          "2020-03-13",
          "2020-03-14",
          "2020-03-15",
          "2020-03-16",
          "2020-03-17",
          "2020-03-18",
          "2020-03-19",
          "2020-03-20",
          "2020-03-21",
          "2020-03-22",
          "2020-03-23",
          "2020-03-24",
          "2020-03-25",
          "2020-03-26",
          "2020-03-27",
          "2020-03-28",
          "2020-03-29",
          "2020-03-30",
          "2020-03-31",
          "2020-04-01",
          "2020-04-02",
          "2020-04-03",
          "2020-04-04",
          "2020-04-05",
          "2020-04-06",
          "2020-04-07",
          "2020-04-08",
          "2020-04-09",
          "2020-04-10",
          "2020-04-11",
          "2020-04-12",
          "2020-04-13",
          "2020-04-14",
          "2020-04-15",
          "2020-04-16",
          "2020-04-17",
          "2020-04-18",
          "2020-04-19",
          "2020-04-20",
          "2020-04-21",
          "2020-04-22",
          "2020-04-23",
          "2020-04-24",
          "2020-04-25",
          "2020-04-26",
          "2020-04-27",
          "2020-04-28",
          "2020-04-29",
          "2020-04-30",
          "2020-05-01",
          "2020-05-02",
          "2020-05-03",
          "2020-05-04",
          "2020-05-05",
          "2020-05-06",
          "2020-05-07",
          "2020-05-08",
          "2020-05-09",
          "2020-05-10",
          "2020-05-11",
          "2020-05-12",
          "2020-05-13",
          "2020-05-14",
          "2020-05-15",
          "2020-05-16",
          "2020-05-17",
          "2020-05-18",
          "2020-05-19",
          "2020-05-20",
          "2020-05-21",
          "2020-05-22",
          "2020-05-23",
          "2020-05-24",
          "2020-05-25",
          "2020-05-26",
          "2020-05-27",
          "2020-05-28",
          "2020-05-29",
          "2020-05-30",
          "2020-05-31",
          "2020-06-01",
          "2020-06-02",
          "2020-06-03",
          "2020-06-04",
          "2020-06-05",
          "2020-06-06",
          "2020-06-07",
          "2020-06-08",
          "2020-06-09",
          "2020-06-10",
          "2020-06-11",
          "2020-06-12",
          "2020-06-13",
          "2020-06-14",
          "2020-06-15",
          "2020-06-16",
          "2020-06-17",
          "2020-06-18",
          "2020-06-19",
          "2020-06-20",
          "2020-06-21",
          "2020-06-22",
          "2020-06-23",
          "2020-06-24",
          "2020-06-25",
          "2020-06-26",
          "2020-06-27",
          "2020-06-28",
          "2020-06-29",
          "2020-06-30",
          "2020-07-01",
          "2020-07-02",
          "2020-07-03",
          "2020-07-04",
          "2020-07-05",
          "2020-07-06",
          "2020-07-07",
          "2020-07-08",
          "2020-07-09",
          "2020-07-10",
          "2020-07-11",
          "2020-07-12",
          "2020-07-13",
          "2020-07-14",
          "2020-07-15",
          "2020-07-16",
          "2020-07-17",
          "2020-07-18",
          "2020-07-19",
          "2020-07-20",
          "2020-07-21",
          "2020-07-22",
          "2020-07-23",
          "2020-07-24",
          "2020-07-25",
          "2020-07-26",
          "2020-07-27",
          "2020-07-28",
          "2020-07-29",
          "2020-07-30",
          "2020-07-31",
          "2020-08-01",
          "2020-08-02",
          "2020-08-03",
          "2020-08-04",
          "2020-08-05",
          "2020-08-06",
          "2020-08-07",
          "2020-08-08",
          "2020-08-09",
          "2020-08-10",
          "2020-08-11",
          "2020-08-12",
          "2020-08-13",
          "2020-08-14",
          "2020-08-15",
          "2020-08-16",
          "2020-08-17",
          "2020-08-18",
          "2020-08-19",
          "2020-08-20",
          "2020-08-21",
          "2020-08-22",
          "2020-08-23",
          "2020-08-24",
          "2020-08-25",
          "2020-08-26",
          "2020-08-27",
          "2020-08-28",
          "2020-08-29",
          "2020-08-30",
          "2020-08-31",
          "2020-09-01",
          "2020-09-02",
          "2020-09-03",
          "2020-09-04",
          "2020-09-05",
          "2020-09-06",
          "2020-09-07",
          "2020-09-08",
          "2020-09-09",
          "2020-09-10",
          "2020-09-11",
          "2020-09-12",
          "2020-09-13",
          "2020-09-14",
          "2020-09-15",
          "2020-09-16",
          "2020-09-17",
          "2020-09-18",
          "2020-09-19",
          "2020-09-20",
          "2020-09-21",
          "2020-09-22",
          "2020-09-23",
          "2020-09-24",
          "2020-09-25",
          "2020-09-26",
          "2020-09-27",
          "2020-09-28",
          "2020-09-29",
          "2020-09-30",
          "2020-10-01",
          "2020-10-02",
          "2020-10-03",
          "2020-10-04",
          "2020-10-05",
          "2020-10-06",
          "2020-10-07",
          "2020-10-08",
          "2020-10-09",
          "2020-10-10",
          "2020-10-11",
          "2020-10-12",
          "2020-10-13",
          "2020-10-14",
          "2020-10-15",
          "2020-10-16",
          "2020-10-17",
          "2020-10-18",
          "2020-10-19",
          "2020-10-20",
          "2020-10-21",
          "2020-10-22",
          "2020-10-23",
          "2020-10-24",
          "2020-10-25",
          "2020-10-26",
          "2020-10-27",
          "2020-10-28",
          "2020-10-29",
          "2020-10-30",
          "2020-10-31",
          "2020-11-01",
          "2020-11-02",
          "2020-11-03",
          "2020-11-04",
          "2020-11-05",
          "2020-11-06",
          "2020-11-07",
          "2020-11-08",
          "2020-11-09",
          "2020-11-10",
          "2020-11-11",
          "2020-11-12",
          "2020-11-13",
          "2020-11-14",
          "2020-11-15",
          "2020-11-16",
          "2020-11-17",
          "2020-11-18",
          "2020-11-19",
          "2020-11-20",
          "2020-11-21",
          "2020-11-22",
          "2020-11-23",
          "2020-11-24",
          "2020-11-25",
          "2020-11-26",
          "2020-11-27",
          "2020-11-28",
          "2020-11-29",
          "2020-11-30",
          "2020-12-01",
          "2020-12-02",
          "2020-12-03",
          "2020-12-04",
          "2020-12-05",
          "2020-12-06",
          "2020-12-07",
          "2020-12-08",
          "2020-12-09",
          "2020-12-10",
          "2020-12-11",
          "2020-12-12",
          "2020-12-13",
          "2020-12-14",
          "2020-12-15",
          "2020-12-16",
          "2020-12-17",
          "2020-12-18",
          "2020-12-19",
          "2020-12-20",
          "2020-12-21",
          "2020-12-22",
          "2020-12-23",
          "2020-12-24",
          "2020-12-25",
          "2020-12-26",
          "2020-12-27",
          "2020-12-28",
          "2020-12-29",
          "2020-12-30",
          "2020-12-31",
          "2021-01-01",
          "2021-01-02",
          "2021-01-03",
          "2021-01-04",
          "2021-01-05",
          "2021-01-06",
          "2021-01-07",
          "2021-01-08",
          "2021-01-09",
          "2021-01-10",
          "2021-01-11",
          "2021-01-12",
          "2021-01-13",
          "2021-01-14",
          "2021-01-15",
          "2021-01-16",
          "2021-01-17",
          "2021-01-18",
          "2021-01-19",
          "2021-01-20"
         ],
         "y": [
          0,
          0,
          0,
          0,
          0,
          0,
          0,
          0,
          3,
          23,
          40,
          47,
          47,
          47,
          47,
          47,
          47,
          47,
          47,
          47,
          52,
          52,
          52,
          53,
          89,
          132,
          145,
          145,
          171,
          226,
          280,
          311,
          360,
          443,
          550,
          649,
          752,
          897,
          1096,
          1332,
          1573,
          1852,
          2219,
          2688,
          3239,
          3837,
          4555,
          5461,
          6580,
          7893,
          9396,
          11215,
          13431,
          16088,
          19221,
          22972,
          27481,
          32887,
          39327,
          47013,
          56222,
          67258,
          80459,
          96198,
          114984,
          137474,
          164415,
          196645,
          235090,
          280856,
          335534,
          400991,
          479276,
          572628,
          683549,
          815616,
          973138,
          1160788,
          1383629,
          1650762,
          1961625,
          2296653,
          2633757,
          2979114,
          3336173,
          3707504,
          4093481,
          4494670,
          4911763,
          5344940,
          5794341,
          6260198,
          6742731,
          7241846,
          7757571,
          8289843,
          8838484,
          9403202,
          9983542,
          10579164,
          11189990,
          11815658,
          12455503,
          13108553,
          13773572,
          14449946,
          15137475,
          15835518,
          16542982,
          17258322,
          17979714,
          18706546,
          19438400,
          20174367,
          20913089,
          21652750,
          22391320,
          23128271,
          23863117,
          24594928,
          25322399,
          26043851,
          26757483,
          27462950,
          28159813,
          28847318,
          29524488,
          30190122,
          30842981,
          31482893,
          32109604,
          32722699,
          33321672,
          33905925,
          34474781,
          35028097,
          35565971,
          36088363,
          36595210,
          37086426,
          37561901,
          38021505,
          38465407,
          38893933,
          39307313,
          39705776,
          40089553,
          40458878,
          40813986,
          41155115,
          41482641,
          41797066,
          42098641,
          42387645,
          42664394,
          42929239,
          43182569,
          43424806,
          43656411,
          43877880,
          44089717,
          44292056,
          44485073,
          44669094,
          44844532,
          45011883,
          45171487,
          45323542,
          45468323,
          45606138,
          45737334,
          45862289,
          45981279,
          46094476,
          46202085,
          46304344,
          46401523,
          46493927,
          46581882,
          46665562,
          46745050,
          46820477,
          46892020,
          46959903,
          47024393,
          47085790,
          47144148,
          47199511,
          47252001,
          47301772,
          47349013,
          47393914,
          47436532,
          47476949,
          47515266,
          47551597,
          47586068,
          47618803,
          47649863,
          47679309,
          47707214,
          47733657,
          47758725,
          47782515,
          47805115,
          47826554,
          47846864,
          47866090,
          47884286,
          47901521,
          47917877,
          47933436,
          47948202,
          47962184,
          47975413,
          47987932,
          47999797,
          48011073,
          48021774,
          48031910,
          48041503,
          48050582,
          48059182,
          48067346,
          48075102,
          48082452,
          48089408,
          48095987,
          48102211,
          48108108,
          48113713,
          48119047,
          48124104,
          48128883,
          48133393,
          48137649,
          48141678,
          48145511,
          48149175,
          48152651,
          48155934,
          48159028,
          48161949,
          48164717,
          48167361,
          48169876,
          48172254,
          48174497,
          48176613,
          48178614,
          48180519,
          48182340,
          48184067,
          48185696,
          48187229,
          48188673,
          48190038,
          48191343,
          48192599,
          48193794,
          48194917,
          48195966,
          48196946,
          48197868,
          48198750,
          48199613,
          48200439,
          48201214,
          48201935,
          48202606,
          48203239,
          48203855,
          48204451,
          48205015,
          48205541,
          48206029,
          48206485,
          48206922,
          48207352,
          48207765,
          48208153,
          48208510,
          48208838,
          48209145,
          48209440,
          48209739,
          48210033,
          48210306,
          48210552,
          48210771,
          48210969,
          48211158,
          48211360,
          48211568,
          48211761,
          48211933,
          48212082,
          48212217,
          48212353,
          48212500,
          48212643,
          48212771,
          48212883,
          48212981,
          48213073,
          48213173,
          48213280,
          48213380,
          48213466,
          48213538,
          48213599,
          48213656,
          48213725,
          48213807,
          48213885,
          48213949,
          48213995,
          48214026,
          48214052,
          48214092,
          48214153,
          48214213,
          48214260,
          48214292,
          48214312,
          48214332,
          48214370,
          48214414,
          48214453,
          48214480,
          48214497,
          48214508,
          48214526,
          48214558,
          48214593,
          48214620,
          48214635,
          48214640,
          48214642,
          48214651,
          48214680,
          48214713,
          48214738,
          48214748,
          48214748,
          48214748,
          48214748,
          48214749,
          48214779,
          48214801,
          48214809,
          48214809,
          48214809,
          48214809,
          48214822,
          48214842,
          48214853,
          48214853,
          48214853,
          48214853
         ]
        },
        {
         "line": {
          "color": "green",
          "width": 4
         },
         "mode": "lines",
         "name": "Confirmed case until 2020-03-26",
         "type": "scatter",
         "x": [
          "2020-01-27",
          "2020-01-28",
          "2020-01-29",
          "2020-01-30",
          "2020-01-31",
          "2020-02-01",
          "2020-02-02",
          "2020-02-03",
          "2020-02-04",
          "2020-02-05",
          "2020-02-06",
          "2020-02-07",
          "2020-02-08",
          "2020-02-09",
          "2020-02-10",
          "2020-02-11",
          "2020-02-12",
          "2020-02-13",
          "2020-02-14",
          "2020-02-15",
          "2020-02-16",
          "2020-02-17",
          "2020-02-18",
          "2020-02-19",
          "2020-02-20",
          "2020-02-21",
          "2020-02-22",
          "2020-02-23",
          "2020-02-24",
          "2020-02-25",
          "2020-02-26",
          "2020-02-27",
          "2020-02-28",
          "2020-02-29",
          "2020-03-01",
          "2020-03-02",
          "2020-03-03",
          "2020-03-04",
          "2020-03-05",
          "2020-03-06",
          "2020-03-07",
          "2020-03-08",
          "2020-03-09",
          "2020-03-10",
          "2020-03-11",
          "2020-03-12",
          "2020-03-13",
          "2020-03-14",
          "2020-03-15",
          "2020-03-16",
          "2020-03-17",
          "2020-03-18",
          "2020-03-19",
          "2020-03-20",
          "2020-03-21",
          "2020-03-22",
          "2020-03-23",
          "2020-03-24",
          "2020-03-25",
          "2020-03-26"
         ],
         "y": [
          1,
          4,
          4,
          4,
          5,
          8,
          10,
          12,
          12,
          12,
          12,
          13,
          13,
          14,
          14,
          16,
          16,
          16,
          16,
          16,
          16,
          16,
          16,
          16,
          16,
          16,
          16,
          16,
          16,
          17,
          27,
          46,
          48,
          79,
          130,
          159,
          196,
          262,
          482,
          670,
          799,
          1040,
          1176,
          1457,
          1908,
          2078,
          3675,
          4585,
          5795,
          7272,
          9257,
          12327,
          15320,
          19848,
          22213,
          24873,
          29056,
          32986,
          37323,
          43938
         ]
        }
       ],
       "layout": {
        "annotations": [
         {
          "font": {
           "color": "Blue",
           "size": 15
          },
          "showarrow": false,
          "text": "Estimate Max Case around:48214853",
          "x": "2020-12-02",
          "y": 46607691.61408173
         },
         {
          "showarrow": true,
          "text": "Real Max ConfirmedCase: 43938",
          "x": "2020-03-26",
          "y": 43938
         },
         {
          "text": "Infect start decrease from: 2020-05-23",
          "x": "2020-05-23",
          "y": 23128271.61592042
         }
        ],
        "legend": {
         "orientation": "h"
        },
        "template": {
         "data": {
          "bar": [
           {
            "error_x": {
             "color": "#2a3f5f"
            },
            "error_y": {
             "color": "#2a3f5f"
            },
            "marker": {
             "line": {
              "color": "#E5ECF6",
              "width": 0.5
             }
            },
            "type": "bar"
           }
          ],
          "barpolar": [
           {
            "marker": {
             "line": {
              "color": "#E5ECF6",
              "width": 0.5
             }
            },
            "type": "barpolar"
           }
          ],
          "carpet": [
           {
            "aaxis": {
             "endlinecolor": "#2a3f5f",
             "gridcolor": "white",
             "linecolor": "white",
             "minorgridcolor": "white",
             "startlinecolor": "#2a3f5f"
            },
            "baxis": {
             "endlinecolor": "#2a3f5f",
             "gridcolor": "white",
             "linecolor": "white",
             "minorgridcolor": "white",
             "startlinecolor": "#2a3f5f"
            },
            "type": "carpet"
           }
          ],
          "choropleth": [
           {
            "colorbar": {
             "outlinewidth": 0,
             "ticks": ""
            },
            "type": "choropleth"
           }
          ],
          "contour": [
           {
            "colorbar": {
             "outlinewidth": 0,
             "ticks": ""
            },
            "colorscale": [
             [
              0,
              "#0d0887"
             ],
             [
              0.1111111111111111,
              "#46039f"
             ],
             [
              0.2222222222222222,
              "#7201a8"
             ],
             [
              0.3333333333333333,
              "#9c179e"
             ],
             [
              0.4444444444444444,
              "#bd3786"
             ],
             [
              0.5555555555555556,
              "#d8576b"
             ],
             [
              0.6666666666666666,
              "#ed7953"
             ],
             [
              0.7777777777777778,
              "#fb9f3a"
             ],
             [
              0.8888888888888888,
              "#fdca26"
             ],
             [
              1,
              "#f0f921"
             ]
            ],
            "type": "contour"
           }
          ],
          "contourcarpet": [
           {
            "colorbar": {
             "outlinewidth": 0,
             "ticks": ""
            },
            "type": "contourcarpet"
           }
          ],
          "heatmap": [
           {
            "colorbar": {
             "outlinewidth": 0,
             "ticks": ""
            },
            "colorscale": [
             [
              0,
              "#0d0887"
             ],
             [
              0.1111111111111111,
              "#46039f"
             ],
             [
              0.2222222222222222,
              "#7201a8"
             ],
             [
              0.3333333333333333,
              "#9c179e"
             ],
             [
              0.4444444444444444,
              "#bd3786"
             ],
             [
              0.5555555555555556,
              "#d8576b"
             ],
             [
              0.6666666666666666,
              "#ed7953"
             ],
             [
              0.7777777777777778,
              "#fb9f3a"
             ],
             [
              0.8888888888888888,
              "#fdca26"
             ],
             [
              1,
              "#f0f921"
             ]
            ],
            "type": "heatmap"
           }
          ],
          "heatmapgl": [
           {
            "colorbar": {
             "outlinewidth": 0,
             "ticks": ""
            },
            "colorscale": [
             [
              0,
              "#0d0887"
             ],
             [
              0.1111111111111111,
              "#46039f"
             ],
             [
              0.2222222222222222,
              "#7201a8"
             ],
             [
              0.3333333333333333,
              "#9c179e"
             ],
             [
              0.4444444444444444,
              "#bd3786"
             ],
             [
              0.5555555555555556,
              "#d8576b"
             ],
             [
              0.6666666666666666,
              "#ed7953"
             ],
             [
              0.7777777777777778,
              "#fb9f3a"
             ],
             [
              0.8888888888888888,
              "#fdca26"
             ],
             [
              1,
              "#f0f921"
             ]
            ],
            "type": "heatmapgl"
           }
          ],
          "histogram": [
           {
            "marker": {
             "colorbar": {
              "outlinewidth": 0,
              "ticks": ""
             }
            },
            "type": "histogram"
           }
          ],
          "histogram2d": [
           {
            "colorbar": {
             "outlinewidth": 0,
             "ticks": ""
            },
            "colorscale": [
             [
              0,
              "#0d0887"
             ],
             [
              0.1111111111111111,
              "#46039f"
             ],
             [
              0.2222222222222222,
              "#7201a8"
             ],
             [
              0.3333333333333333,
              "#9c179e"
             ],
             [
              0.4444444444444444,
              "#bd3786"
             ],
             [
              0.5555555555555556,
              "#d8576b"
             ],
             [
              0.6666666666666666,
              "#ed7953"
             ],
             [
              0.7777777777777778,
              "#fb9f3a"
             ],
             [
              0.8888888888888888,
              "#fdca26"
             ],
             [
              1,
              "#f0f921"
             ]
            ],
            "type": "histogram2d"
           }
          ],
          "histogram2dcontour": [
           {
            "colorbar": {
             "outlinewidth": 0,
             "ticks": ""
            },
            "colorscale": [
             [
              0,
              "#0d0887"
             ],
             [
              0.1111111111111111,
              "#46039f"
             ],
             [
              0.2222222222222222,
              "#7201a8"
             ],
             [
              0.3333333333333333,
              "#9c179e"
             ],
             [
              0.4444444444444444,
              "#bd3786"
             ],
             [
              0.5555555555555556,
              "#d8576b"
             ],
             [
              0.6666666666666666,
              "#ed7953"
             ],
             [
              0.7777777777777778,
              "#fb9f3a"
             ],
             [
              0.8888888888888888,
              "#fdca26"
             ],
             [
              1,
              "#f0f921"
             ]
            ],
            "type": "histogram2dcontour"
           }
          ],
          "mesh3d": [
           {
            "colorbar": {
             "outlinewidth": 0,
             "ticks": ""
            },
            "type": "mesh3d"
           }
          ],
          "parcoords": [
           {
            "line": {
             "colorbar": {
              "outlinewidth": 0,
              "ticks": ""
             }
            },
            "type": "parcoords"
           }
          ],
          "pie": [
           {
            "automargin": true,
            "type": "pie"
           }
          ],
          "scatter": [
           {
            "marker": {
             "colorbar": {
              "outlinewidth": 0,
              "ticks": ""
             }
            },
            "type": "scatter"
           }
          ],
          "scatter3d": [
           {
            "line": {
             "colorbar": {
              "outlinewidth": 0,
              "ticks": ""
             }
            },
            "marker": {
             "colorbar": {
              "outlinewidth": 0,
              "ticks": ""
             }
            },
            "type": "scatter3d"
           }
          ],
          "scattercarpet": [
           {
            "marker": {
             "colorbar": {
              "outlinewidth": 0,
              "ticks": ""
             }
            },
            "type": "scattercarpet"
           }
          ],
          "scattergeo": [
           {
            "marker": {
             "colorbar": {
              "outlinewidth": 0,
              "ticks": ""
             }
            },
            "type": "scattergeo"
           }
          ],
          "scattergl": [
           {
            "marker": {
             "colorbar": {
              "outlinewidth": 0,
              "ticks": ""
             }
            },
            "type": "scattergl"
           }
          ],
          "scattermapbox": [
           {
            "marker": {
             "colorbar": {
              "outlinewidth": 0,
              "ticks": ""
             }
            },
            "type": "scattermapbox"
           }
          ],
          "scatterpolar": [
           {
            "marker": {
             "colorbar": {
              "outlinewidth": 0,
              "ticks": ""
             }
            },
            "type": "scatterpolar"
           }
          ],
          "scatterpolargl": [
           {
            "marker": {
             "colorbar": {
              "outlinewidth": 0,
              "ticks": ""
             }
            },
            "type": "scatterpolargl"
           }
          ],
          "scatterternary": [
           {
            "marker": {
             "colorbar": {
              "outlinewidth": 0,
              "ticks": ""
             }
            },
            "type": "scatterternary"
           }
          ],
          "surface": [
           {
            "colorbar": {
             "outlinewidth": 0,
             "ticks": ""
            },
            "colorscale": [
             [
              0,
              "#0d0887"
             ],
             [
              0.1111111111111111,
              "#46039f"
             ],
             [
              0.2222222222222222,
              "#7201a8"
             ],
             [
              0.3333333333333333,
              "#9c179e"
             ],
             [
              0.4444444444444444,
              "#bd3786"
             ],
             [
              0.5555555555555556,
              "#d8576b"
             ],
             [
              0.6666666666666666,
              "#ed7953"
             ],
             [
              0.7777777777777778,
              "#fb9f3a"
             ],
             [
              0.8888888888888888,
              "#fdca26"
             ],
             [
              1,
              "#f0f921"
             ]
            ],
            "type": "surface"
           }
          ],
          "table": [
           {
            "cells": {
             "fill": {
              "color": "#EBF0F8"
             },
             "line": {
              "color": "white"
             }
            },
            "header": {
             "fill": {
              "color": "#C8D4E3"
             },
             "line": {
              "color": "white"
             }
            },
            "type": "table"
           }
          ]
         },
         "layout": {
          "annotationdefaults": {
           "arrowcolor": "#2a3f5f",
           "arrowhead": 0,
           "arrowwidth": 1
          },
          "coloraxis": {
           "colorbar": {
            "outlinewidth": 0,
            "ticks": ""
           }
          },
          "colorscale": {
           "diverging": [
            [
             0,
             "#8e0152"
            ],
            [
             0.1,
             "#c51b7d"
            ],
            [
             0.2,
             "#de77ae"
            ],
            [
             0.3,
             "#f1b6da"
            ],
            [
             0.4,
             "#fde0ef"
            ],
            [
             0.5,
             "#f7f7f7"
            ],
            [
             0.6,
             "#e6f5d0"
            ],
            [
             0.7,
             "#b8e186"
            ],
            [
             0.8,
             "#7fbc41"
            ],
            [
             0.9,
             "#4d9221"
            ],
            [
             1,
             "#276419"
            ]
           ],
           "sequential": [
            [
             0,
             "#0d0887"
            ],
            [
             0.1111111111111111,
             "#46039f"
            ],
            [
             0.2222222222222222,
             "#7201a8"
            ],
            [
             0.3333333333333333,
             "#9c179e"
            ],
            [
             0.4444444444444444,
             "#bd3786"
            ],
            [
             0.5555555555555556,
             "#d8576b"
            ],
            [
             0.6666666666666666,
             "#ed7953"
            ],
            [
             0.7777777777777778,
             "#fb9f3a"
            ],
            [
             0.8888888888888888,
             "#fdca26"
            ],
            [
             1,
             "#f0f921"
            ]
           ],
           "sequentialminus": [
            [
             0,
             "#0d0887"
            ],
            [
             0.1111111111111111,
             "#46039f"
            ],
            [
             0.2222222222222222,
             "#7201a8"
            ],
            [
             0.3333333333333333,
             "#9c179e"
            ],
            [
             0.4444444444444444,
             "#bd3786"
            ],
            [
             0.5555555555555556,
             "#d8576b"
            ],
            [
             0.6666666666666666,
             "#ed7953"
            ],
            [
             0.7777777777777778,
             "#fb9f3a"
            ],
            [
             0.8888888888888888,
             "#fdca26"
            ],
            [
             1,
             "#f0f921"
            ]
           ]
          },
          "colorway": [
           "#636efa",
           "#EF553B",
           "#00cc96",
           "#ab63fa",
           "#FFA15A",
           "#19d3f3",
           "#FF6692",
           "#B6E880",
           "#FF97FF",
           "#FECB52"
          ],
          "font": {
           "color": "#2a3f5f"
          },
          "geo": {
           "bgcolor": "white",
           "lakecolor": "white",
           "landcolor": "#E5ECF6",
           "showlakes": true,
           "showland": true,
           "subunitcolor": "white"
          },
          "hoverlabel": {
           "align": "left"
          },
          "hovermode": "closest",
          "mapbox": {
           "style": "light"
          },
          "paper_bgcolor": "white",
          "plot_bgcolor": "#E5ECF6",
          "polar": {
           "angularaxis": {
            "gridcolor": "white",
            "linecolor": "white",
            "ticks": ""
           },
           "bgcolor": "#E5ECF6",
           "radialaxis": {
            "gridcolor": "white",
            "linecolor": "white",
            "ticks": ""
           }
          },
          "scene": {
           "xaxis": {
            "backgroundcolor": "#E5ECF6",
            "gridcolor": "white",
            "gridwidth": 2,
            "linecolor": "white",
            "showbackground": true,
            "ticks": "",
            "zerolinecolor": "white"
           },
           "yaxis": {
            "backgroundcolor": "#E5ECF6",
            "gridcolor": "white",
            "gridwidth": 2,
            "linecolor": "white",
            "showbackground": true,
            "ticks": "",
            "zerolinecolor": "white"
           },
           "zaxis": {
            "backgroundcolor": "#E5ECF6",
            "gridcolor": "white",
            "gridwidth": 2,
            "linecolor": "white",
            "showbackground": true,
            "ticks": "",
            "zerolinecolor": "white"
           }
          },
          "shapedefaults": {
           "line": {
            "color": "#2a3f5f"
           }
          },
          "ternary": {
           "aaxis": {
            "gridcolor": "white",
            "linecolor": "white",
            "ticks": ""
           },
           "baxis": {
            "gridcolor": "white",
            "linecolor": "white",
            "ticks": ""
           },
           "bgcolor": "#E5ECF6",
           "caxis": {
            "gridcolor": "white",
            "linecolor": "white",
            "ticks": ""
           }
          },
          "title": {
           "x": 0.05
          },
          "xaxis": {
           "automargin": true,
           "gridcolor": "white",
           "linecolor": "white",
           "ticks": "",
           "title": {
            "standoff": 15
           },
           "zerolinecolor": "white",
           "zerolinewidth": 2
          },
          "yaxis": {
           "automargin": true,
           "gridcolor": "white",
           "linecolor": "white",
           "ticks": "",
           "title": {
            "standoff": 15
           },
           "zerolinecolor": "white",
           "zerolinewidth": 2
          }
         }
        },
        "title": {
         "text": "Estimate Confirmed Case ,Germany Total population =82200000"
        }
       }
      },
      "text/html": [
       "<div>\n",
       "        \n",
       "        \n",
       "            <div id=\"9cabdec3-53c4-443e-a3ae-dd9c40ffe19b\" class=\"plotly-graph-div\" style=\"height:525px; width:100%;\"></div>\n",
       "            <script type=\"text/javascript\">\n",
       "                require([\"plotly\"], function(Plotly) {\n",
       "                    window.PLOTLYENV=window.PLOTLYENV || {};\n",
       "                    \n",
       "                if (document.getElementById(\"9cabdec3-53c4-443e-a3ae-dd9c40ffe19b\")) {\n",
       "                    Plotly.newPlot(\n",
       "                        '9cabdec3-53c4-443e-a3ae-dd9c40ffe19b',\n",
       "                        [{\"line\": {\"color\": \"red\"}, \"mode\": \"lines\", \"name\": \"Estimation Confirmed Case Start from 2020-01-27 to 2021-01-21\", \"type\": \"scatter\", \"x\": [\"2020-01-27\", \"2020-01-28\", \"2020-01-29\", \"2020-01-30\", \"2020-01-31\", \"2020-02-01\", \"2020-02-02\", \"2020-02-03\", \"2020-02-04\", \"2020-02-05\", \"2020-02-06\", \"2020-02-07\", \"2020-02-08\", \"2020-02-09\", \"2020-02-10\", \"2020-02-11\", \"2020-02-12\", \"2020-02-13\", \"2020-02-14\", \"2020-02-15\", \"2020-02-16\", \"2020-02-17\", \"2020-02-18\", \"2020-02-19\", \"2020-02-20\", \"2020-02-21\", \"2020-02-22\", \"2020-02-23\", \"2020-02-24\", \"2020-02-25\", \"2020-02-26\", \"2020-02-27\", \"2020-02-28\", \"2020-02-29\", \"2020-03-01\", \"2020-03-02\", \"2020-03-03\", \"2020-03-04\", \"2020-03-05\", \"2020-03-06\", \"2020-03-07\", \"2020-03-08\", \"2020-03-09\", \"2020-03-10\", \"2020-03-11\", \"2020-03-12\", \"2020-03-13\", \"2020-03-14\", \"2020-03-15\", \"2020-03-16\", \"2020-03-17\", \"2020-03-18\", \"2020-03-19\", \"2020-03-20\", \"2020-03-21\", \"2020-03-22\", \"2020-03-23\", \"2020-03-24\", \"2020-03-25\", \"2020-03-26\", \"2020-03-27\", \"2020-03-28\", \"2020-03-29\", \"2020-03-30\", \"2020-03-31\", \"2020-04-01\", \"2020-04-02\", \"2020-04-03\", \"2020-04-04\", \"2020-04-05\", \"2020-04-06\", \"2020-04-07\", \"2020-04-08\", \"2020-04-09\", \"2020-04-10\", \"2020-04-11\", \"2020-04-12\", \"2020-04-13\", \"2020-04-14\", \"2020-04-15\", \"2020-04-16\", \"2020-04-17\", \"2020-04-18\", \"2020-04-19\", \"2020-04-20\", \"2020-04-21\", \"2020-04-22\", \"2020-04-23\", \"2020-04-24\", \"2020-04-25\", \"2020-04-26\", \"2020-04-27\", \"2020-04-28\", \"2020-04-29\", \"2020-04-30\", \"2020-05-01\", \"2020-05-02\", \"2020-05-03\", \"2020-05-04\", \"2020-05-05\", \"2020-05-06\", \"2020-05-07\", \"2020-05-08\", \"2020-05-09\", \"2020-05-10\", \"2020-05-11\", \"2020-05-12\", \"2020-05-13\", \"2020-05-14\", \"2020-05-15\", \"2020-05-16\", \"2020-05-17\", \"2020-05-18\", \"2020-05-19\", \"2020-05-20\", \"2020-05-21\", \"2020-05-22\", \"2020-05-23\", \"2020-05-24\", \"2020-05-25\", \"2020-05-26\", \"2020-05-27\", \"2020-05-28\", \"2020-05-29\", \"2020-05-30\", \"2020-05-31\", \"2020-06-01\", \"2020-06-02\", \"2020-06-03\", \"2020-06-04\", \"2020-06-05\", \"2020-06-06\", \"2020-06-07\", \"2020-06-08\", \"2020-06-09\", \"2020-06-10\", \"2020-06-11\", \"2020-06-12\", \"2020-06-13\", \"2020-06-14\", \"2020-06-15\", \"2020-06-16\", \"2020-06-17\", \"2020-06-18\", \"2020-06-19\", \"2020-06-20\", \"2020-06-21\", \"2020-06-22\", \"2020-06-23\", \"2020-06-24\", \"2020-06-25\", \"2020-06-26\", \"2020-06-27\", \"2020-06-28\", \"2020-06-29\", \"2020-06-30\", \"2020-07-01\", \"2020-07-02\", \"2020-07-03\", \"2020-07-04\", \"2020-07-05\", \"2020-07-06\", \"2020-07-07\", \"2020-07-08\", \"2020-07-09\", \"2020-07-10\", \"2020-07-11\", \"2020-07-12\", \"2020-07-13\", \"2020-07-14\", \"2020-07-15\", \"2020-07-16\", \"2020-07-17\", \"2020-07-18\", \"2020-07-19\", \"2020-07-20\", \"2020-07-21\", \"2020-07-22\", \"2020-07-23\", \"2020-07-24\", \"2020-07-25\", \"2020-07-26\", \"2020-07-27\", \"2020-07-28\", \"2020-07-29\", \"2020-07-30\", \"2020-07-31\", \"2020-08-01\", \"2020-08-02\", \"2020-08-03\", \"2020-08-04\", \"2020-08-05\", \"2020-08-06\", \"2020-08-07\", \"2020-08-08\", \"2020-08-09\", \"2020-08-10\", \"2020-08-11\", \"2020-08-12\", \"2020-08-13\", \"2020-08-14\", \"2020-08-15\", \"2020-08-16\", \"2020-08-17\", \"2020-08-18\", \"2020-08-19\", \"2020-08-20\", \"2020-08-21\", \"2020-08-22\", \"2020-08-23\", \"2020-08-24\", \"2020-08-25\", \"2020-08-26\", \"2020-08-27\", \"2020-08-28\", \"2020-08-29\", \"2020-08-30\", \"2020-08-31\", \"2020-09-01\", \"2020-09-02\", \"2020-09-03\", \"2020-09-04\", \"2020-09-05\", \"2020-09-06\", \"2020-09-07\", \"2020-09-08\", \"2020-09-09\", \"2020-09-10\", \"2020-09-11\", \"2020-09-12\", \"2020-09-13\", \"2020-09-14\", \"2020-09-15\", \"2020-09-16\", \"2020-09-17\", \"2020-09-18\", \"2020-09-19\", \"2020-09-20\", \"2020-09-21\", \"2020-09-22\", \"2020-09-23\", \"2020-09-24\", \"2020-09-25\", \"2020-09-26\", \"2020-09-27\", \"2020-09-28\", \"2020-09-29\", \"2020-09-30\", \"2020-10-01\", \"2020-10-02\", \"2020-10-03\", \"2020-10-04\", \"2020-10-05\", \"2020-10-06\", \"2020-10-07\", \"2020-10-08\", \"2020-10-09\", \"2020-10-10\", \"2020-10-11\", \"2020-10-12\", \"2020-10-13\", \"2020-10-14\", \"2020-10-15\", \"2020-10-16\", \"2020-10-17\", \"2020-10-18\", \"2020-10-19\", \"2020-10-20\", \"2020-10-21\", \"2020-10-22\", \"2020-10-23\", \"2020-10-24\", \"2020-10-25\", \"2020-10-26\", \"2020-10-27\", \"2020-10-28\", \"2020-10-29\", \"2020-10-30\", \"2020-10-31\", \"2020-11-01\", \"2020-11-02\", \"2020-11-03\", \"2020-11-04\", \"2020-11-05\", \"2020-11-06\", \"2020-11-07\", \"2020-11-08\", \"2020-11-09\", \"2020-11-10\", \"2020-11-11\", \"2020-11-12\", \"2020-11-13\", \"2020-11-14\", \"2020-11-15\", \"2020-11-16\", \"2020-11-17\", \"2020-11-18\", \"2020-11-19\", \"2020-11-20\", \"2020-11-21\", \"2020-11-22\", \"2020-11-23\", \"2020-11-24\", \"2020-11-25\", \"2020-11-26\", \"2020-11-27\", \"2020-11-28\", \"2020-11-29\", \"2020-11-30\", \"2020-12-01\", \"2020-12-02\", \"2020-12-03\", \"2020-12-04\", \"2020-12-05\", \"2020-12-06\", \"2020-12-07\", \"2020-12-08\", \"2020-12-09\", \"2020-12-10\", \"2020-12-11\", \"2020-12-12\", \"2020-12-13\", \"2020-12-14\", \"2020-12-15\", \"2020-12-16\", \"2020-12-17\", \"2020-12-18\", \"2020-12-19\", \"2020-12-20\", \"2020-12-21\", \"2020-12-22\", \"2020-12-23\", \"2020-12-24\", \"2020-12-25\", \"2020-12-26\", \"2020-12-27\", \"2020-12-28\", \"2020-12-29\", \"2020-12-30\", \"2020-12-31\", \"2021-01-01\", \"2021-01-02\", \"2021-01-03\", \"2021-01-04\", \"2021-01-05\", \"2021-01-06\", \"2021-01-07\", \"2021-01-08\", \"2021-01-09\", \"2021-01-10\", \"2021-01-11\", \"2021-01-12\", \"2021-01-13\", \"2021-01-14\", \"2021-01-15\", \"2021-01-16\", \"2021-01-17\", \"2021-01-18\", \"2021-01-19\", \"2021-01-20\"], \"y\": [0, 0, 0, 0, 0, 0, 0, 0, 3, 23, 40, 47, 47, 47, 47, 47, 47, 47, 47, 47, 52, 52, 52, 53, 89, 132, 145, 145, 171, 226, 280, 311, 360, 443, 550, 649, 752, 897, 1096, 1332, 1573, 1852, 2219, 2688, 3239, 3837, 4555, 5461, 6580, 7893, 9396, 11215, 13431, 16088, 19221, 22972, 27481, 32887, 39327, 47013, 56222, 67258, 80459, 96198, 114984, 137474, 164415, 196645, 235090, 280856, 335534, 400991, 479276, 572628, 683549, 815616, 973138, 1160788, 1383629, 1650762, 1961625, 2296653, 2633757, 2979114, 3336173, 3707504, 4093481, 4494670, 4911763, 5344940, 5794341, 6260198, 6742731, 7241846, 7757571, 8289843, 8838484, 9403202, 9983542, 10579164, 11189990, 11815658, 12455503, 13108553, 13773572, 14449946, 15137475, 15835518, 16542982, 17258322, 17979714, 18706546, 19438400, 20174367, 20913089, 21652750, 22391320, 23128271, 23863117, 24594928, 25322399, 26043851, 26757483, 27462950, 28159813, 28847318, 29524488, 30190122, 30842981, 31482893, 32109604, 32722699, 33321672, 33905925, 34474781, 35028097, 35565971, 36088363, 36595210, 37086426, 37561901, 38021505, 38465407, 38893933, 39307313, 39705776, 40089553, 40458878, 40813986, 41155115, 41482641, 41797066, 42098641, 42387645, 42664394, 42929239, 43182569, 43424806, 43656411, 43877880, 44089717, 44292056, 44485073, 44669094, 44844532, 45011883, 45171487, 45323542, 45468323, 45606138, 45737334, 45862289, 45981279, 46094476, 46202085, 46304344, 46401523, 46493927, 46581882, 46665562, 46745050, 46820477, 46892020, 46959903, 47024393, 47085790, 47144148, 47199511, 47252001, 47301772, 47349013, 47393914, 47436532, 47476949, 47515266, 47551597, 47586068, 47618803, 47649863, 47679309, 47707214, 47733657, 47758725, 47782515, 47805115, 47826554, 47846864, 47866090, 47884286, 47901521, 47917877, 47933436, 47948202, 47962184, 47975413, 47987932, 47999797, 48011073, 48021774, 48031910, 48041503, 48050582, 48059182, 48067346, 48075102, 48082452, 48089408, 48095987, 48102211, 48108108, 48113713, 48119047, 48124104, 48128883, 48133393, 48137649, 48141678, 48145511, 48149175, 48152651, 48155934, 48159028, 48161949, 48164717, 48167361, 48169876, 48172254, 48174497, 48176613, 48178614, 48180519, 48182340, 48184067, 48185696, 48187229, 48188673, 48190038, 48191343, 48192599, 48193794, 48194917, 48195966, 48196946, 48197868, 48198750, 48199613, 48200439, 48201214, 48201935, 48202606, 48203239, 48203855, 48204451, 48205015, 48205541, 48206029, 48206485, 48206922, 48207352, 48207765, 48208153, 48208510, 48208838, 48209145, 48209440, 48209739, 48210033, 48210306, 48210552, 48210771, 48210969, 48211158, 48211360, 48211568, 48211761, 48211933, 48212082, 48212217, 48212353, 48212500, 48212643, 48212771, 48212883, 48212981, 48213073, 48213173, 48213280, 48213380, 48213466, 48213538, 48213599, 48213656, 48213725, 48213807, 48213885, 48213949, 48213995, 48214026, 48214052, 48214092, 48214153, 48214213, 48214260, 48214292, 48214312, 48214332, 48214370, 48214414, 48214453, 48214480, 48214497, 48214508, 48214526, 48214558, 48214593, 48214620, 48214635, 48214640, 48214642, 48214651, 48214680, 48214713, 48214738, 48214748, 48214748, 48214748, 48214748, 48214749, 48214779, 48214801, 48214809, 48214809, 48214809, 48214809, 48214822, 48214842, 48214853, 48214853, 48214853, 48214853]}, {\"line\": {\"color\": \"green\", \"width\": 4}, \"mode\": \"lines\", \"name\": \"Confirmed case until 2020-03-26\", \"type\": \"scatter\", \"x\": [\"2020-01-27\", \"2020-01-28\", \"2020-01-29\", \"2020-01-30\", \"2020-01-31\", \"2020-02-01\", \"2020-02-02\", \"2020-02-03\", \"2020-02-04\", \"2020-02-05\", \"2020-02-06\", \"2020-02-07\", \"2020-02-08\", \"2020-02-09\", \"2020-02-10\", \"2020-02-11\", \"2020-02-12\", \"2020-02-13\", \"2020-02-14\", \"2020-02-15\", \"2020-02-16\", \"2020-02-17\", \"2020-02-18\", \"2020-02-19\", \"2020-02-20\", \"2020-02-21\", \"2020-02-22\", \"2020-02-23\", \"2020-02-24\", \"2020-02-25\", \"2020-02-26\", \"2020-02-27\", \"2020-02-28\", \"2020-02-29\", \"2020-03-01\", \"2020-03-02\", \"2020-03-03\", \"2020-03-04\", \"2020-03-05\", \"2020-03-06\", \"2020-03-07\", \"2020-03-08\", \"2020-03-09\", \"2020-03-10\", \"2020-03-11\", \"2020-03-12\", \"2020-03-13\", \"2020-03-14\", \"2020-03-15\", \"2020-03-16\", \"2020-03-17\", \"2020-03-18\", \"2020-03-19\", \"2020-03-20\", \"2020-03-21\", \"2020-03-22\", \"2020-03-23\", \"2020-03-24\", \"2020-03-25\", \"2020-03-26\"], \"y\": [1.0, 4.0, 4.0, 4.0, 5.0, 8.0, 10.0, 12.0, 12.0, 12.0, 12.0, 13.0, 13.0, 14.0, 14.0, 16.0, 16.0, 16.0, 16.0, 16.0, 16.0, 16.0, 16.0, 16.0, 16.0, 16.0, 16.0, 16.0, 16.0, 17.0, 27.0, 46.0, 48.0, 79.0, 130.0, 159.0, 196.0, 262.0, 482.0, 670.0, 799.0, 1040.0, 1176.0, 1457.0, 1908.0, 2078.0, 3675.0, 4585.0, 5795.0, 7272.0, 9257.0, 12327.0, 15320.0, 19848.0, 22213.0, 24873.0, 29056.0, 32986.0, 37323.0, 43938.0]}],\n",
       "                        {\"annotations\": [{\"font\": {\"color\": \"Blue\", \"size\": 15}, \"showarrow\": false, \"text\": \"Estimate Max Case around:48214853\", \"x\": \"2020-12-02\", \"y\": 46607691.61408173}, {\"showarrow\": true, \"text\": \"Real Max ConfirmedCase: 43938\", \"x\": \"2020-03-26\", \"y\": 43938.0}, {\"text\": \"Infect start decrease from: 2020-05-23\", \"x\": \"2020-05-23\", \"y\": 23128271.61592042}], \"legend\": {\"orientation\": \"h\"}, \"template\": {\"data\": {\"bar\": [{\"error_x\": {\"color\": \"#2a3f5f\"}, \"error_y\": {\"color\": \"#2a3f5f\"}, \"marker\": {\"line\": {\"color\": \"#E5ECF6\", \"width\": 0.5}}, \"type\": \"bar\"}], \"barpolar\": [{\"marker\": {\"line\": {\"color\": \"#E5ECF6\", \"width\": 0.5}}, \"type\": \"barpolar\"}], \"carpet\": [{\"aaxis\": {\"endlinecolor\": \"#2a3f5f\", \"gridcolor\": \"white\", \"linecolor\": \"white\", \"minorgridcolor\": \"white\", \"startlinecolor\": \"#2a3f5f\"}, \"baxis\": {\"endlinecolor\": \"#2a3f5f\", \"gridcolor\": \"white\", \"linecolor\": \"white\", \"minorgridcolor\": \"white\", \"startlinecolor\": \"#2a3f5f\"}, \"type\": \"carpet\"}], \"choropleth\": [{\"colorbar\": {\"outlinewidth\": 0, \"ticks\": \"\"}, \"type\": \"choropleth\"}], \"contour\": [{\"colorbar\": {\"outlinewidth\": 0, \"ticks\": \"\"}, \"colorscale\": [[0.0, \"#0d0887\"], [0.1111111111111111, \"#46039f\"], [0.2222222222222222, \"#7201a8\"], [0.3333333333333333, \"#9c179e\"], [0.4444444444444444, \"#bd3786\"], [0.5555555555555556, \"#d8576b\"], [0.6666666666666666, \"#ed7953\"], [0.7777777777777778, \"#fb9f3a\"], [0.8888888888888888, \"#fdca26\"], [1.0, \"#f0f921\"]], \"type\": \"contour\"}], \"contourcarpet\": [{\"colorbar\": {\"outlinewidth\": 0, \"ticks\": \"\"}, \"type\": \"contourcarpet\"}], \"heatmap\": [{\"colorbar\": {\"outlinewidth\": 0, \"ticks\": \"\"}, \"colorscale\": [[0.0, \"#0d0887\"], [0.1111111111111111, \"#46039f\"], [0.2222222222222222, \"#7201a8\"], [0.3333333333333333, \"#9c179e\"], [0.4444444444444444, \"#bd3786\"], [0.5555555555555556, \"#d8576b\"], [0.6666666666666666, \"#ed7953\"], [0.7777777777777778, \"#fb9f3a\"], [0.8888888888888888, \"#fdca26\"], [1.0, \"#f0f921\"]], \"type\": \"heatmap\"}], \"heatmapgl\": [{\"colorbar\": {\"outlinewidth\": 0, \"ticks\": \"\"}, \"colorscale\": [[0.0, \"#0d0887\"], [0.1111111111111111, \"#46039f\"], [0.2222222222222222, \"#7201a8\"], [0.3333333333333333, \"#9c179e\"], [0.4444444444444444, \"#bd3786\"], [0.5555555555555556, \"#d8576b\"], [0.6666666666666666, \"#ed7953\"], [0.7777777777777778, \"#fb9f3a\"], [0.8888888888888888, \"#fdca26\"], [1.0, \"#f0f921\"]], \"type\": \"heatmapgl\"}], \"histogram\": [{\"marker\": {\"colorbar\": {\"outlinewidth\": 0, \"ticks\": \"\"}}, \"type\": \"histogram\"}], \"histogram2d\": [{\"colorbar\": {\"outlinewidth\": 0, \"ticks\": \"\"}, \"colorscale\": [[0.0, \"#0d0887\"], [0.1111111111111111, \"#46039f\"], [0.2222222222222222, \"#7201a8\"], [0.3333333333333333, \"#9c179e\"], [0.4444444444444444, \"#bd3786\"], [0.5555555555555556, \"#d8576b\"], [0.6666666666666666, \"#ed7953\"], [0.7777777777777778, \"#fb9f3a\"], [0.8888888888888888, \"#fdca26\"], [1.0, \"#f0f921\"]], \"type\": \"histogram2d\"}], \"histogram2dcontour\": [{\"colorbar\": {\"outlinewidth\": 0, \"ticks\": \"\"}, \"colorscale\": [[0.0, \"#0d0887\"], [0.1111111111111111, \"#46039f\"], [0.2222222222222222, \"#7201a8\"], [0.3333333333333333, \"#9c179e\"], [0.4444444444444444, \"#bd3786\"], [0.5555555555555556, \"#d8576b\"], [0.6666666666666666, \"#ed7953\"], [0.7777777777777778, \"#fb9f3a\"], [0.8888888888888888, \"#fdca26\"], [1.0, \"#f0f921\"]], \"type\": \"histogram2dcontour\"}], \"mesh3d\": [{\"colorbar\": {\"outlinewidth\": 0, \"ticks\": \"\"}, \"type\": \"mesh3d\"}], \"parcoords\": [{\"line\": {\"colorbar\": {\"outlinewidth\": 0, \"ticks\": \"\"}}, \"type\": \"parcoords\"}], \"pie\": [{\"automargin\": true, \"type\": \"pie\"}], \"scatter\": [{\"marker\": {\"colorbar\": {\"outlinewidth\": 0, \"ticks\": \"\"}}, \"type\": \"scatter\"}], \"scatter3d\": [{\"line\": {\"colorbar\": {\"outlinewidth\": 0, \"ticks\": \"\"}}, \"marker\": {\"colorbar\": {\"outlinewidth\": 0, \"ticks\": \"\"}}, \"type\": \"scatter3d\"}], \"scattercarpet\": [{\"marker\": {\"colorbar\": {\"outlinewidth\": 0, \"ticks\": \"\"}}, \"type\": \"scattercarpet\"}], \"scattergeo\": [{\"marker\": {\"colorbar\": {\"outlinewidth\": 0, \"ticks\": \"\"}}, \"type\": \"scattergeo\"}], \"scattergl\": [{\"marker\": {\"colorbar\": {\"outlinewidth\": 0, \"ticks\": \"\"}}, \"type\": \"scattergl\"}], \"scattermapbox\": [{\"marker\": {\"colorbar\": {\"outlinewidth\": 0, \"ticks\": \"\"}}, \"type\": \"scattermapbox\"}], \"scatterpolar\": [{\"marker\": {\"colorbar\": {\"outlinewidth\": 0, \"ticks\": \"\"}}, \"type\": \"scatterpolar\"}], \"scatterpolargl\": [{\"marker\": {\"colorbar\": {\"outlinewidth\": 0, \"ticks\": \"\"}}, \"type\": \"scatterpolargl\"}], \"scatterternary\": [{\"marker\": {\"colorbar\": {\"outlinewidth\": 0, \"ticks\": \"\"}}, \"type\": \"scatterternary\"}], \"surface\": [{\"colorbar\": {\"outlinewidth\": 0, \"ticks\": \"\"}, \"colorscale\": [[0.0, \"#0d0887\"], [0.1111111111111111, \"#46039f\"], [0.2222222222222222, \"#7201a8\"], [0.3333333333333333, \"#9c179e\"], [0.4444444444444444, \"#bd3786\"], [0.5555555555555556, \"#d8576b\"], [0.6666666666666666, \"#ed7953\"], [0.7777777777777778, \"#fb9f3a\"], [0.8888888888888888, \"#fdca26\"], [1.0, \"#f0f921\"]], \"type\": \"surface\"}], \"table\": [{\"cells\": {\"fill\": {\"color\": \"#EBF0F8\"}, \"line\": {\"color\": \"white\"}}, \"header\": {\"fill\": {\"color\": \"#C8D4E3\"}, \"line\": {\"color\": \"white\"}}, \"type\": \"table\"}]}, \"layout\": {\"annotationdefaults\": {\"arrowcolor\": \"#2a3f5f\", \"arrowhead\": 0, \"arrowwidth\": 1}, \"coloraxis\": {\"colorbar\": {\"outlinewidth\": 0, \"ticks\": \"\"}}, \"colorscale\": {\"diverging\": [[0, \"#8e0152\"], [0.1, \"#c51b7d\"], [0.2, \"#de77ae\"], [0.3, \"#f1b6da\"], [0.4, \"#fde0ef\"], [0.5, \"#f7f7f7\"], [0.6, \"#e6f5d0\"], [0.7, \"#b8e186\"], [0.8, \"#7fbc41\"], [0.9, \"#4d9221\"], [1, \"#276419\"]], \"sequential\": [[0.0, \"#0d0887\"], [0.1111111111111111, \"#46039f\"], [0.2222222222222222, \"#7201a8\"], [0.3333333333333333, \"#9c179e\"], [0.4444444444444444, \"#bd3786\"], [0.5555555555555556, \"#d8576b\"], [0.6666666666666666, \"#ed7953\"], [0.7777777777777778, \"#fb9f3a\"], [0.8888888888888888, \"#fdca26\"], [1.0, \"#f0f921\"]], \"sequentialminus\": [[0.0, \"#0d0887\"], [0.1111111111111111, \"#46039f\"], [0.2222222222222222, \"#7201a8\"], [0.3333333333333333, \"#9c179e\"], [0.4444444444444444, \"#bd3786\"], [0.5555555555555556, \"#d8576b\"], [0.6666666666666666, \"#ed7953\"], [0.7777777777777778, \"#fb9f3a\"], [0.8888888888888888, \"#fdca26\"], [1.0, \"#f0f921\"]]}, \"colorway\": [\"#636efa\", \"#EF553B\", \"#00cc96\", \"#ab63fa\", \"#FFA15A\", \"#19d3f3\", \"#FF6692\", \"#B6E880\", \"#FF97FF\", \"#FECB52\"], \"font\": {\"color\": \"#2a3f5f\"}, \"geo\": {\"bgcolor\": \"white\", \"lakecolor\": \"white\", \"landcolor\": \"#E5ECF6\", \"showlakes\": true, \"showland\": true, \"subunitcolor\": \"white\"}, \"hoverlabel\": {\"align\": \"left\"}, \"hovermode\": \"closest\", \"mapbox\": {\"style\": \"light\"}, \"paper_bgcolor\": \"white\", \"plot_bgcolor\": \"#E5ECF6\", \"polar\": {\"angularaxis\": {\"gridcolor\": \"white\", \"linecolor\": \"white\", \"ticks\": \"\"}, \"bgcolor\": \"#E5ECF6\", \"radialaxis\": {\"gridcolor\": \"white\", \"linecolor\": \"white\", \"ticks\": \"\"}}, \"scene\": {\"xaxis\": {\"backgroundcolor\": \"#E5ECF6\", \"gridcolor\": \"white\", \"gridwidth\": 2, \"linecolor\": \"white\", \"showbackground\": true, \"ticks\": \"\", \"zerolinecolor\": \"white\"}, \"yaxis\": {\"backgroundcolor\": \"#E5ECF6\", \"gridcolor\": \"white\", \"gridwidth\": 2, \"linecolor\": \"white\", \"showbackground\": true, \"ticks\": \"\", \"zerolinecolor\": \"white\"}, \"zaxis\": {\"backgroundcolor\": \"#E5ECF6\", \"gridcolor\": \"white\", \"gridwidth\": 2, \"linecolor\": \"white\", \"showbackground\": true, \"ticks\": \"\", \"zerolinecolor\": \"white\"}}, \"shapedefaults\": {\"line\": {\"color\": \"#2a3f5f\"}}, \"ternary\": {\"aaxis\": {\"gridcolor\": \"white\", \"linecolor\": \"white\", \"ticks\": \"\"}, \"baxis\": {\"gridcolor\": \"white\", \"linecolor\": \"white\", \"ticks\": \"\"}, \"bgcolor\": \"#E5ECF6\", \"caxis\": {\"gridcolor\": \"white\", \"linecolor\": \"white\", \"ticks\": \"\"}}, \"title\": {\"x\": 0.05}, \"xaxis\": {\"automargin\": true, \"gridcolor\": \"white\", \"linecolor\": \"white\", \"ticks\": \"\", \"title\": {\"standoff\": 15}, \"zerolinecolor\": \"white\", \"zerolinewidth\": 2}, \"yaxis\": {\"automargin\": true, \"gridcolor\": \"white\", \"linecolor\": \"white\", \"ticks\": \"\", \"title\": {\"standoff\": 15}, \"zerolinecolor\": \"white\", \"zerolinewidth\": 2}}}, \"title\": {\"text\": \"Estimate Confirmed Case ,Germany Total population =82200000\"}},\n",
       "                        {\"responsive\": true}\n",
       "                    ).then(function(){\n",
       "                            \n",
       "var gd = document.getElementById('9cabdec3-53c4-443e-a3ae-dd9c40ffe19b');\n",
       "var x = new MutationObserver(function (mutations, observer) {{\n",
       "        var display = window.getComputedStyle(gd).display;\n",
       "        if (!display || display === 'none') {{\n",
       "            console.log([gd, 'removed!']);\n",
       "            Plotly.purge(gd);\n",
       "            observer.disconnect();\n",
       "        }}\n",
       "}});\n",
       "\n",
       "// Listen for the removal of the full notebook cells\n",
       "var notebookContainer = gd.closest('#notebook-container');\n",
       "if (notebookContainer) {{\n",
       "    x.observe(notebookContainer, {childList: true});\n",
       "}}\n",
       "\n",
       "// Listen for the clearing of the current output cell\n",
       "var outputEl = gd.closest('.output');\n",
       "if (outputEl) {{\n",
       "    x.observe(outputEl, {childList: true});\n",
       "}}\n",
       "\n",
       "                        })\n",
       "                };\n",
       "                });\n",
       "            </script>\n",
       "        </div>"
      ]
     },
     "metadata": {},
     "output_type": "display_data"
    }
   ],
   "source": [
    "T_inc = 5.2  # average incubation period\n",
    "T_inf = 2.9  # average infectious period\n",
    "R_0 = 2.2  # reproduction number without intervention\n",
    "R_t = 0.7  # reproduction number after intervention\n",
    "\n",
    "country = 'Germany'\n",
    "\n",
    "if country not in train['Country_Region'].unique():\n",
    "    country_pd_train = train[train['Province_State']==country]\n",
    "else:\n",
    "    country_pd_train = train[train['Country_Region']==country]\n",
    "\n",
    "a,b = fit_model_new(country_pd_train,country,make_plot=True)"
   ]
  },
  {
   "cell_type": "code",
   "execution_count": null,
   "metadata": {},
   "outputs": [],
   "source": [
    "N = germany[\"Pop\"][7870]  # Population size\n",
    "print(N)\n",
    "n_infected = germany[\"ConfirmedCases\"][7876]\n",
    "print(n_infected)\n",
    "max_days = 200 #germany[\"Date\"][7929]-germany[\"Date\"][7870]\n",
    "print(max_days)\n",
    "\n",
    "# State at time = 0 for SEIR model\n",
    "a = (N - n_infected)/ N\n",
    "b = 0\n",
    "c = n_infected / N\n",
    "d = 0.\n",
    "\n",
    "T_inc = 5.2  # average incubation period\n",
    "T_inf = 2.9  # average infectious period"
   ]
  },
  {
   "cell_type": "code",
   "execution_count": null,
   "metadata": {},
   "outputs": [],
   "source": [
    "# Use a constant reproduction number\n",
    "def eval_model_const(params, data, population, return_solution=False, forecast_days=0):\n",
    "    R_0, cfr = params\n",
    "    N = population\n",
    "    n_infected = data['ConfirmedCases'].iloc[0]\n",
    "    max_days = len(data) + forecast_days\n",
    "    a, b, c, d = (N - n_infected)/ N, 0, n_infected / N, 0\n",
    "               \n",
    "    sol = solve_ivp(SEIR_model, [0, max_days], [a, b, c, d], args=(R_0, T_inf, T_inc),\n",
    "                    t_eval=np.arange(0, max_days))\n",
    "    \n",
    "    y_pred_cases = np.diff((sol.y[2] + sol.y[3])*N, prepend=n_infected).cumsum()\n",
    "    y_pred_cases = np.clip(y_pred_cases, 0, np.inf)\n",
    "    y_true_cases = data['ConfirmedCases'].values\n",
    "    y_pred_fat = np.clip(sol.y[3]*N, 0, np.inf) * cfr\n",
    "    y_true_fat = data['Fatalities'].values\n",
    "    \n",
    "    optim_days = min(14, len(data))  # Days to optimise for\n",
    "    weights = 1 / np.arange(1, optim_days+1)[::-1]  # Recent data is more heavily weighted\n",
    "    \n",
    "    msle_cases = mean_squared_log_error(y_true_cases[-optim_days:], y_pred_cases[-optim_days:], weights)\n",
    "    msle_fat = mean_squared_log_error(y_true_fat[-optim_days:], y_pred_fat[-optim_days:], weights)\n",
    "    msle_final = np.mean([msle_cases, msle_fat])\n",
    "    \n",
    "    if return_solution:\n",
    "        return msle_final, sol\n",
    "    else:\n",
    "        return msle_final"
   ]
  },
  {
   "cell_type": "code",
   "execution_count": 31,
   "metadata": {},
   "outputs": [],
   "source": [
    "ydata = [i for i in germany.ConfirmedCases['sum'].values]\n",
    "xdata = germany.day_count\n",
    "ydata = np.array(ydata, dtype=float)\n",
    "xdata = np.array(xdata, dtype=float)\n",
    "\n",
    "def fit_odeint(t, R_t, T_inf, T_inc)\n",
    "    return integrate.odeint(SEIR_model, (t, y, R_0, T_inf, T_inc), x, args=(R_0))[:,5]\n",
    "\n",
    "r_est = optimize.curve_fit(fit_odeint, xdata, ydata)\n",
    "fitted = fit_odeint(xdata,r_est)"
   ]
  },
  {
   "cell_type": "code",
   "execution_count": 39,
   "metadata": {},
   "outputs": [
    {
     "name": "stdout",
     "output_type": "stream",
     "text": [
      "[[ 8.29279120e+07  8.29279042e+07  8.29278831e+07  8.29278627e+07\n",
      "   8.29278573e+07  8.29278705e+07  8.29278951e+07  8.29279138e+07\n",
      "   8.29278985e+07  8.29278503e+07  8.29278197e+07  8.29278268e+07\n",
      "   8.29278537e+07  8.29278446e+07  8.29277767e+07  8.29277229e+07\n",
      "   8.29277214e+07  8.29277614e+07  8.29277835e+07  8.29277112e+07\n",
      "   8.29276246e+07  8.29275860e+07  8.29275929e+07  8.29275823e+07\n",
      "   8.29274857e+07  8.29273850e+07  8.29273242e+07  8.29272950e+07\n",
      "   8.29272380e+07  8.29270957e+07  8.29269443e+07  8.29268294e+07\n",
      "   8.29267440e+07  8.29266295e+07  8.29264080e+07  8.29261500e+07\n",
      "   8.29259231e+07  8.29257298e+07  8.29255098e+07  8.29251541e+07\n",
      "   8.29247082e+07  8.29242748e+07  8.29238738e+07  8.29234441e+07\n",
      "   8.29228501e+07  8.29221115e+07  8.29213353e+07  8.29205282e+07\n",
      "   8.29196228e+07  8.29185147e+07  8.29172601e+07  8.29158897e+07\n",
      "   8.29143788e+07  8.29126541e+07  8.29106464e+07  8.29083918e+07\n",
      "   8.29058938e+07  8.29031095e+07  8.28999505e+07  8.28963029e+07\n",
      "   8.28921714e+07  8.28875753e+07  8.28824634e+07  8.28767127e+07\n",
      "   8.28701303e+07  8.28626095e+07  8.28541758e+07  8.28447483e+07\n",
      "   8.28341466e+07  8.28220959e+07  8.28084322e+07  8.27930721e+07\n",
      "   8.27758209e+07  8.27563841e+07  8.27343716e+07  8.27094728e+07\n",
      "   8.26814546e+07  8.26499575e+07  8.26144889e+07  8.25744231e+07\n",
      "   8.25290818e+07  8.24780087e+07  8.24206349e+07  8.23561528e+07\n",
      "   8.22835158e+07  8.22014400e+07  8.21087449e+07  8.20046355e+07\n",
      "   8.18879289e+07  8.17569525e+07  8.16095437e+07  8.14432220e+07\n",
      "   8.12563818e+07  8.10472270e+07  8.08131727e+07  8.05508621e+07\n",
      "   8.02564132e+07  7.99270251e+07  7.95596936e+07  7.91504807e+07\n",
      "   7.86945304e+07  7.81862347e+07  7.76214431e+07  7.69966406e+07\n",
      "   7.63070618e+07  7.55466446e+07  7.47080543e+07  7.37858604e+07\n",
      "   7.27790853e+07  7.16852694e+07  7.04997473e+07  6.92156480e+07\n",
      "   6.78291994e+07  6.63460017e+07  6.47694512e+07  6.31007523e+07\n",
      "   6.13395756e+07  5.94944465e+07  5.75791762e+07  5.56048589e+07\n",
      "   5.35798815e+07  5.15134133e+07  4.94260050e+07  4.73367343e+07\n",
      "   4.52598990e+07  4.32051246e+07  4.11859694e+07  3.92213583e+07\n",
      "   3.73245267e+07  3.55035306e+07  3.37619954e+07  3.21079308e+07\n",
      "   3.05477803e+07  2.90841443e+07  2.77165430e+07  2.64422291e+07\n",
      "   2.52607033e+07  2.41689076e+07  2.31629665e+07  2.22386913e+07\n",
      "   2.13915799e+07  2.06170979e+07  1.99098765e+07  1.92643665e+07\n",
      "   1.86759111e+07  1.81407484e+07  1.76555242e+07  1.72151660e+07\n",
      "   1.68147814e+07  1.64505449e+07  1.61196961e+07  1.58205401e+07\n",
      "   1.55507652e+07  1.53063324e+07  1.50843642e+07  1.48826644e+07\n",
      "   1.46997183e+07  1.45346763e+07  1.43858552e+07  1.42510279e+07\n",
      "   1.41286626e+07  1.40175700e+07  1.39169035e+07  1.38261204e+07\n",
      "   1.37441371e+07  1.36698586e+07  1.36024844e+07  1.35413700e+07\n",
      "   1.34860276e+07  1.34360863e+07  1.33909292e+07  1.33500189e+07\n",
      "   1.33129275e+07  1.32792990e+07  1.32488494e+07  1.32213530e+07\n",
      "   1.31964898e+07  1.31739693e+07  1.31535538e+07  1.31350417e+07\n",
      "   1.31182674e+07  1.31031016e+07  1.30894167e+07  1.30770324e+07\n",
      "   1.30658083e+07  1.30556252e+07  1.30463848e+07  1.30380096e+07\n",
      "   1.30304426e+07  1.30236299e+07  1.30174705e+07  1.30118852e+07\n",
      "   1.30068101e+07  1.30021957e+07  1.29980062e+07  1.29942199e+07\n",
      "   1.29908224e+07  1.29877505e+07  1.29849643e+07  1.29824379e+07]\n",
      " [ 0.00000000e+00  7.72310147e+00  3.37650702e+01  5.82642311e+01\n",
      "   6.11174247e+01  3.71699372e+01 -3.78450016e+00 -3.70037106e+01\n",
      "  -2.31848437e+01  3.61270676e+01  6.94871369e+01  4.82848854e+01\n",
      "  -2.26843158e+00 -3.59212306e+00  7.63236350e+01  1.34126872e+02\n",
      "   1.15842688e+02  3.62880527e+01 -2.09281983e+01  5.18398418e+01\n",
      "   1.41141846e+02  1.58265945e+02  1.06352135e+02  7.37375826e+01\n",
      "   1.56459365e+02  2.38119418e+02  2.55534346e+02  2.19601154e+02\n",
      "   2.12877990e+02  3.15579595e+02  4.18419282e+02  4.55566083e+02\n",
      "   4.34885069e+02  4.37043953e+02  5.69948194e+02  7.31224731e+02\n",
      "   8.22517135e+02  8.36741977e+02  8.55592531e+02  1.02845048e+03\n",
      "   1.28656496e+03  1.47913081e+03  1.57198634e+03  1.64432793e+03\n",
      "   1.88033225e+03  2.24286281e+03  2.57120032e+03  2.84440409e+03\n",
      "   3.14503462e+03  3.60621049e+03  4.13249765e+03  4.66234034e+03\n",
      "   5.20986769e+03  5.85553458e+03  6.67087928e+03  7.57528498e+03\n",
      "   8.53091382e+03  9.56016840e+03  1.07454652e+04  1.21999220e+04\n",
      "   1.38631184e+04  1.56471062e+04  1.75552869e+04  1.96828616e+04\n",
      "   2.22156711e+04  2.52054996e+04  2.85058460e+04  3.21051693e+04\n",
      "   3.61161064e+04  4.07676169e+04  4.61110619e+04  5.20634769e+04\n",
      "   5.86703950e+04  6.60891673e+04  7.45813282e+04  8.42585090e+04\n",
      "   9.50855504e+04  1.07155247e+05  1.20694032e+05  1.36061975e+05\n",
      "   1.53628048e+05  1.73378311e+05  1.95375040e+05  2.19917332e+05\n",
      "   2.47541115e+05  2.79015630e+05  3.14829199e+05  3.54797703e+05\n",
      "   3.99117441e+05  4.48496555e+05  5.04155024e+05  5.67571001e+05\n",
      "   6.38743586e+05  7.17702351e+05  8.05312319e+05  9.03246110e+05\n",
      "   1.01362705e+06  1.13671148e+06  1.27270500e+06  1.42278280e+06\n",
      "   1.58906552e+06  1.77439530e+06  1.97917931e+06  2.20256269e+06\n",
      "   2.44524391e+06  2.70954819e+06  2.99940901e+06  3.31604194e+06\n",
      "   3.65418155e+06  4.01106363e+06  4.38758645e+06  4.78831068e+06\n",
      "   5.21413687e+06  5.65359107e+06  6.09973922e+06  6.55052849e+06\n",
      "   7.00786770e+06  7.46290688e+06  7.90121865e+06  8.31462428e+06\n",
      "   8.70122706e+06  9.06019759e+06  9.37587675e+06  9.63624136e+06\n",
      "   9.83752755e+06  9.98406196e+06  1.00746507e+07  1.00995501e+07\n",
      "   1.00567561e+07  9.95105376e+06  9.79282634e+06  9.58369939e+06\n",
      "   9.32541084e+06  9.02363059e+06  8.68677991e+06  8.32478676e+06\n",
      "   7.94191449e+06  7.54439014e+06  7.13838382e+06  6.72927155e+06\n",
      "   6.32163530e+06  5.91900441e+06  5.52553693e+06  5.14513894e+06\n",
      "   4.77994085e+06  4.43029365e+06  4.09563909e+06  3.77832909e+06\n",
      "   3.48053164e+06  3.20277674e+06  2.94395942e+06  2.70133975e+06\n",
      "   2.47345195e+06  2.26219925e+06  2.06780867e+06  1.88957995e+06\n",
      "   1.72588598e+06  1.57420133e+06  1.43375231e+06  1.30510543e+06\n",
      "   1.18784760e+06  1.08116141e+06  9.83825071e+05  8.94281236e+05\n",
      "   8.12175237e+05  7.37433743e+05  6.69605518e+05  6.08090773e+05\n",
      "   5.52141169e+05  5.00930845e+05  4.54243023e+05  4.11874533e+05\n",
      "   3.73507819e+05  3.38773000e+05  3.07247866e+05  2.78483011e+05\n",
      "   2.52299794e+05  2.28568614e+05  2.07110835e+05  1.87723552e+05\n",
      "   1.70179594e+05  1.54227521e+05  1.39659166e+05  1.26433281e+05\n",
      "   1.14475326e+05  1.03692082e+05  9.39730630e+04  8.51905128e+04\n",
      "   7.71994077e+04  6.98736567e+04  6.32138273e+04  5.71996876e+04\n",
      "   5.17927557e+04  4.69390465e+04  4.25690710e+04  3.85978369e+04\n",
      "   3.49384386e+04  3.16146267e+04  2.86139759e+04  2.59043553e+04]\n",
      " [ 1.00000000e+01  6.54386430e+00 -7.99358378e+00 -2.13976744e+01\n",
      "  -2.13022877e+01 -4.51527500e+00  2.29815418e+01  4.60323696e+01\n",
      "   4.05455487e+01  7.51344080e+00 -9.15123016e+00  8.17283643e+00\n",
      "   4.40708243e+01  5.03695096e+01  7.49689982e+00 -2.10046750e+01\n",
      "  -1.89510843e+00  5.58452929e+01  1.01015810e+02  6.76735369e+01\n",
      "   2.56367522e+01  2.95562025e+01  7.77167277e+01  1.16123308e+02\n",
      "   8.60828734e+01  5.93602174e+01  7.50881859e+01  1.26966026e+02\n",
      "   1.64744872e+02  1.39668868e+02  1.19387840e+02  1.44943736e+02\n",
      "   2.12221086e+02  2.72495697e+02  2.60417472e+02  2.39854211e+02\n",
      "   2.72333105e+02  3.63507795e+02  4.64692786e+02  4.85817743e+02\n",
      "   4.70956079e+02  5.14779476e+02  6.40645437e+02  8.02625556e+02\n",
      "   8.90652084e+02  9.30932133e+02  1.02596657e+03  1.19296576e+03\n",
      "   1.38615937e+03  1.52933249e+03  1.68730422e+03  1.90487223e+03\n",
      "   2.18134437e+03  2.47629753e+03  2.75591600e+03  3.08103154e+03\n",
      "   3.48770188e+03  3.97679352e+03  4.51412199e+03  5.04864269e+03\n",
      "   5.63824845e+03  6.36024004e+03  7.23921159e+03  8.24681369e+03\n",
      "   9.30247385e+03  1.04123307e+04  1.17089784e+04  1.32478521e+04\n",
      "   1.50145130e+04  1.69295397e+04  1.90305138e+04  2.14456584e+04\n",
      "   2.42348801e+04  2.74007299e+04  3.08932809e+04  3.47690168e+04\n",
      "   3.91888294e+04  4.42540470e+04  5.00041389e+04  5.64167147e+04\n",
      "   6.34880072e+04  7.14761633e+04  8.06231471e+04  9.10614250e+04\n",
      "   1.02813968e+05  1.15796859e+05  1.30146232e+05  1.46462034e+05\n",
      "   1.65166564e+05  1.86426154e+05  2.10151161e+05  2.36154831e+05\n",
      "   2.65245348e+05  2.98292175e+05  3.35724757e+05  3.77549951e+05\n",
      "   4.23571234e+05  4.74845337e+05  5.32551598e+05  5.97313464e+05\n",
      "   6.69211422e+05  7.47901651e+05  8.34606076e+05  9.31394039e+05\n",
      "   1.03920881e+06  1.15780919e+06  1.28576280e+06  1.42305525e+06\n",
      "   1.57382098e+06  1.73999854e+06  1.92043332e+06  2.11087757e+06\n",
      "   2.30873439e+06  2.51906569e+06  2.74297464e+06  2.97700787e+06\n",
      "   3.21377722e+06  3.45252101e+06  3.69605606e+06  3.94183869e+06\n",
      "   4.18185357e+06  4.40664725e+06  4.61903905e+06  4.82005333e+06\n",
      "   5.00456238e+06  5.16141412e+06  5.28560409e+06  5.38297203e+06\n",
      "   5.45435353e+06  5.49576218e+06  5.49953292e+06  5.46899461e+06\n",
      "   5.40995303e+06  5.32487156e+06  5.21381895e+06  5.07587714e+06\n",
      "   4.91707820e+06  4.74096580e+06  4.55050861e+06  4.34892544e+06\n",
      "   4.13968519e+06  3.92680464e+06  3.71179067e+06  3.49527806e+06\n",
      "   3.27953722e+06  3.06848011e+06  2.86649475e+06  2.67217792e+06\n",
      "   2.48324643e+06  2.29963751e+06  2.12351677e+06  1.95927819e+06\n",
      "   1.80869703e+06  1.66722470e+06  1.53289742e+06  1.40533970e+06\n",
      "   1.28576356e+06  1.17691704e+06  1.07827658e+06  9.86816517e+05\n",
      "   9.01356937e+05  8.21548825e+05  7.47874085e+05  6.81514428e+05\n",
      "   6.21437939e+05  5.66192516e+05  5.15141080e+05  4.68020116e+05\n",
      "   4.24939674e+05  3.86244370e+05  3.51194125e+05  3.19137442e+05\n",
      "   2.89715371e+05  2.62736164e+05  2.38175281e+05  2.16125162e+05\n",
      "   1.96221418e+05  1.78091324e+05  1.61502843e+05  1.46310901e+05\n",
      "   1.32457394e+05  1.19971182e+05  1.08836236e+05  9.87666083e+04\n",
      "   8.95812460e+04  8.11572007e+04  7.34267152e+04  6.63772241e+04\n",
      "   6.00513528e+04  5.44770048e+04  4.94650356e+04  4.48876900e+04\n",
      "   4.06645515e+04  3.67570455e+04  3.31684389e+04  2.99438403e+04\n",
      "   2.71437206e+04  2.46248812e+04  2.23245661e+04  2.02257800e+04]\n",
      " [ 0.00000000e+00  3.55581065e+00  1.31429774e+01  2.23889438e+01\n",
      "   2.48461191e+01  1.88790104e+01  7.66422189e+00 -8.09544541e-01\n",
      "   6.13378975e+00  2.80337847e+01  4.19468200e+01  3.87151058e+01\n",
      "   2.65023252e+01  3.06481489e+01  6.15178715e+01  8.59364390e+01\n",
      "   8.66244179e+01  6.84456374e+01  5.84071902e+01  9.12621900e+01\n",
      "   1.30650462e+02  1.48187245e+02  1.45059736e+02  1.49886554e+02\n",
      "   1.93788207e+02  2.39570181e+02  2.67189837e+02  2.80477329e+02\n",
      "   3.06357470e+02  3.71046813e+02  4.39847502e+02  4.92101136e+02\n",
      "   5.30932365e+02  5.82961651e+02  6.83653477e+02  8.00919601e+02\n",
      "   9.04066962e+02  9.91903852e+02  1.09193845e+03  1.25360050e+03\n",
      "   1.45632616e+03  1.65333282e+03  1.83561595e+03  2.03090222e+03\n",
      "   2.30095664e+03  2.63667353e+03  2.98953223e+03  3.35642483e+03\n",
      "   3.76801703e+03  4.27174047e+03  4.84208359e+03  5.46508178e+03\n",
      "   6.15194193e+03  6.93604232e+03  7.84884235e+03  8.87386201e+03\n",
      "   1.00096312e+04  1.12755735e+04  1.27119338e+04  1.43705142e+04\n",
      "   1.62492589e+04  1.83393293e+04  2.06641503e+04  2.32795903e+04\n",
      "   2.62735942e+04  2.96946716e+04  3.35313992e+04  3.78206543e+04\n",
      "   4.26447525e+04  4.81289783e+04  5.43481919e+04  6.13408106e+04\n",
      "   6.91958001e+04  7.80479793e+04  8.80757432e+04  9.94216740e+04\n",
      "   1.12193005e+05  1.26555183e+05  1.42734924e+05  1.61020216e+05\n",
      "   1.81724153e+05  2.05058825e+05  2.31288886e+05  2.60790448e+05\n",
      "   2.94051088e+05  3.31669528e+05  3.74201665e+05  4.22026745e+05\n",
      "   4.75709052e+05  5.36046804e+05  6.04072153e+05  6.80974150e+05\n",
      "   7.67551262e+05  8.64700468e+05  9.73712189e+05  1.09626381e+06\n",
      "   1.23431056e+06  1.38934010e+06  1.56297176e+06  1.75734500e+06\n",
      "   1.97511462e+06  2.21939032e+06  2.49269354e+06  2.79732471e+06\n",
      "   3.13640746e+06  3.51392004e+06  3.93469586e+06  4.40296437e+06\n",
      "   4.92083417e+06  5.49159046e+06  6.12015494e+06  6.81308574e+06\n",
      "   7.57585136e+06  8.40926356e+06  9.31575694e+06  1.02996333e+07\n",
      "   1.13667014e+07  1.25180476e+07  1.37514711e+07  1.50666001e+07\n",
      "   1.64649599e+07  1.79476639e+07  1.95070012e+07  2.11348930e+07\n",
      "   2.28259331e+07  2.45773213e+07  2.63816978e+07  2.82240416e+07\n",
      "   3.00922857e+07  3.19775754e+07  3.38735674e+07  3.57672972e+07\n",
      "   3.76447778e+07  3.94952756e+07  4.13107801e+07  4.30850290e+07\n",
      "   4.48082260e+07  4.64736584e+07  4.80760630e+07  4.96110337e+07\n",
      "   5.10750216e+07  5.24650150e+07  5.37807179e+07  5.50231385e+07\n",
      "   5.61925328e+07  5.72883998e+07  5.83102640e+07  5.92622490e+07\n",
      "   6.01493625e+07  6.09749629e+07  6.17407497e+07  6.24467639e+07\n",
      "   6.30950078e+07  6.36921656e+07  6.42428517e+07  6.47503380e+07\n",
      "   6.52165541e+07  6.56421274e+07  6.60300379e+07  6.63849721e+07\n",
      "   6.67100548e+07  6.70076418e+07  6.72793193e+07  6.75260059e+07\n",
      "   6.77501718e+07  6.79544371e+07  6.81406910e+07  6.83104411e+07\n",
      "   6.84648136e+07  6.86046605e+07  6.87315556e+07  6.88468911e+07\n",
      "   6.89517713e+07  6.90471139e+07  6.91336494e+07  6.92119608e+07\n",
      "   6.92829110e+07  6.93472928e+07  6.94057545e+07  6.94588459e+07\n",
      "   6.95070177e+07  6.95506217e+07  6.95900099e+07  6.96256897e+07\n",
      "   6.96580572e+07  6.96874476e+07  6.97141374e+07  6.97383447e+07\n",
      "   6.97602286e+07  6.97799414e+07  6.97977726e+07  6.98139495e+07\n",
      "   6.98286546e+07  6.98420302e+07  6.98541783e+07  6.98651605e+07\n"
     ]
    },
    {
     "name": "stdout",
     "output_type": "stream",
     "text": [
      "   6.98750175e+07  6.98839320e+07  6.98920191e+07  6.98993540e+07]]\n"
     ]
    },
    {
     "data": {
      "image/png": "[encoded data removed]",
      "text/plain": [
       "<Figure size 576x360 with 1 Axes>"
      ]
     },
     "metadata": {
      "needs_background": "light"
     },
     "output_type": "display_data"
    }
   ],
   "source": [
    "T_inc = 5.2  # average incubation period\n",
    "T_inf = 2.9  # average infectious period\n",
    "R_0 = 2.2  # reproduction number\n",
    "\n",
    "#sol = solve_ivp(SEIR_model, [0, max_days], [a, b, c, d], args=(R_0, T_inf, T_inc), \n",
    "#                t_eval=np.arange(max_days))\n",
    "sol = solve_ivp(fun=lambda t,y:SEIR_model(t, y, R_0, T_inf, T_inc),t_span=[0, max_days],y0=[a, b, c, d], t_eval=np.arange(max_days))\n",
    "\n",
    "sol[\"y\"] = sol[\"y\"]*N\n",
    "print(sol[\"y\"])\n",
    "\n",
    "plot_model(sol, 'SEIR Model (without intervention)')"
   ]
  },
  {
   "cell_type": "code",
   "execution_count": 38,
   "metadata": {},
   "outputs": [
    {
     "data": {
      "image/png": "[encoded data removed]",
      "text/plain": [
       "<Figure size 576x360 with 1 Axes>"
      ]
     },
     "metadata": {
      "needs_background": "light"
     },
     "output_type": "display_data"
    }
   ],
   "source": [
    "T_inc = 5.2  # average incubation period\n",
    "T_inf = 2.9  # average infectious period\n",
    "R_0 = 2.2  # reproduction number without intervention\n",
    "R_t = 0.7  # reproduction number after intervention\n",
    "intervention_day = 80\n",
    "\n",
    "def time_varying_reproduction(t):\n",
    "    if t > intervention_day:\n",
    "        return R_t\n",
    "    else:\n",
    "        return R_0\n",
    "\n",
    "sol2 = solve_ivp(fun=lambda t,y:SEIR_model(t, y, time_varying_reproduction, T_inf, T_inc),t_span=[0, max_days],y0=[a, b, c, d], t_eval=np.arange(max_days))\n",
    "\n",
    "plot_model(sol2, f'SEIR Model (with intervention on day {intervention_day})')"
   ]
  },
  {
   "cell_type": "code",
   "execution_count": null,
   "metadata": {},
   "outputs": [],
   "source": [
    "# Use a constant reproduction number\n",
    "def eval_model_const(params, data, population, return_solution=False, forecast_days=0):\n",
    "    R_0, cfr = params\n",
    "    N = population\n",
    "    n_infected = data['ConfirmedCases'].iloc[0]\n",
    "    max_days = len(data) + forecast_days\n",
    "    a, b, c, d = (N - n_infected)/ N, 0, n_infected / N, 0\n",
    "               \n",
    "    sol2 = solve_ivp(fun=lambda t,y:SEIR_model(t, y, time_varying_reproduction, T_inf, T_inc),t_span=[0, max_days],y0=[a, b, c, d], t_eval=np.arange(max_days))\n",
    "    \n",
    "    y_pred_cases = np.diff((sol.y[2] + sol.y[3])*N, prepend=n_infected).cumsum()\n",
    "    y_pred_cases = np.clip(y_pred_cases, 0, np.inf)"
   ]
  }
 ],
 "metadata": {
  "kernelspec": {
   "display_name": "Python 3",
   "language": "python",
   "name": "python3"
  },
  "language_info": {
   "codemirror_mode": {
    "name": "ipython",
    "version": 3
   },
   "file_extension": ".py",
   "mimetype": "text/x-python",
   "name": "python",
   "nbconvert_exporter": "python",
   "pygments_lexer": "ipython3",
   "version": "3.6.5"
  }
 },
 "nbformat": 4,
 "nbformat_minor": 4
}
