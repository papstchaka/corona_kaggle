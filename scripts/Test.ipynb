{
 "cells": [
  {
   "cell_type": "code",
   "execution_count": 12,
   "metadata": {},
   "outputs": [],
   "source": [
    "import pandas as pd\n",
    "import numpy as np\n",
    "\n",
    "datapath=\"../data/\"\n",
    "\n",
    "submission_data = pd.read_csv(datapath + \"submission.csv\")\n",
    "test_data = pd.read_csv(datapath + \"test.csv\")\n",
    "train_data = pd.read_csv(datapath + \"train.csv\")\n",
    "countrycodes=pd.read_csv(datapath+\"wikipedia-iso-country-codes.csv\")\n",
    "indicator_data=pd.read_excel(datapath+\"Indicator_list.xlsx\").fillna(\"\")\n",
    "age = pd.read_excel(datapath+\"API_SP.POP.65UP.TO.ZS_DS2_en_excel_v2_887753.xls\")\n",
    "population = pd.read_excel(datapath+\"total_population.xls\")\n",
    "population_dens = pd.read_excel(datapath+\"population_density.xls\")\n",
    "\n",
    "indicator_data[\"long_form\"]=indicator_data[\"long_form\"].apply(lambda x: \"_\".join(x.split(\" \")))\n",
    "train_data[[\"ConfirmedCases\",\"Fatalities\"]]=train_data[[\"ConfirmedCases\",\"Fatalities\"]].astype(int)\n",
    "submission_data[[\"ConfirmedCases\",\"Fatalities\"]]=submission_data[[\"ConfirmedCases\",\"Fatalities\"]].astype(int)"
   ]
  },
  {
   "cell_type": "code",
   "execution_count": 13,
   "metadata": {},
   "outputs": [],
   "source": [
    "data_sets = [(age,\"Population ages 65 and above\"), (population,\"Pop\"), (population_dens,\"Pop_dens\")]\n",
    "world= []\n",
    "for worldbank, name in data_sets:\n",
    "    worldbank.columns = worldbank.iloc[2]\n",
    "    worldbank.drop(index=[0, 1,2],inplace = True)\n",
    "    #worldbank[\"Year\"] = 2018\n",
    "    #worldbank = worldbank[[\"Indicator Code\", \"Country Code\", \"Year\", 2018.0]]\n",
    "    #worldbank.columns = [\"Indicator Code\", \"Shortcut\", \"Year\", name]\n",
    "    worldbank = worldbank[[\"Country Code\", 2018.0]]\n",
    "    worldbank.columns = [\"Shortcut\", name]\n",
    "    worldbank.head()\n",
    "    world.append(worldbank)"
   ]
  },
  {
   "cell_type": "code",
   "execution_count": 14,
   "metadata": {},
   "outputs": [
    {
     "name": "stderr",
     "output_type": "stream",
     "text": [
      "11it [00:12,  1.13s/it]\n"
     ]
    }
   ],
   "source": [
    "import requests\n",
    "from tqdm import tqdm\n",
    "\n",
    "def import_data(indicator=\"\",indicator_type=\"\",name=\"\"):\n",
    "    url=\"https://ghoapi.azureedge.net/api/{}\".format(indicator)\n",
    "    data = pd.DataFrame(requests.get(url).json()[\"value\"])\n",
    "    data.drop([col for col in data.columns if data[col].isna().sum() == data.shape[0]],axis=1,inplace=True)\n",
    "    data=data.drop(data[data.NumericValue.isna()].index,axis=0).reset_index(drop=True)\n",
    "    data=data[data.Dim1==indicator_type] if len(indicator_type)>0 else data\n",
    "    data=data[[\"IndicatorCode\",\"SpatialDim\",\"TimeDim\",\"NumericValue\"]].drop_duplicates(subset=[\"IndicatorCode\",\"SpatialDim\"],keep=\"last\").reset_index(drop=True)\n",
    "    data=data[[\"SpatialDim\",\"NumericValue\"]]\n",
    "    data.columns=[\"Shortcut\",name]\n",
    "    \n",
    "    return data\n",
    "\n",
    "def import_who_indicators(indicator_data):\n",
    "    data=[import_data(indicator[\"short_form\"],indicator[\"addition\"],indicator[\"long_form\"]) for _,indicator in tqdm(indicator_data.iterrows())]\n",
    "    return data\n",
    "    \n",
    "who_data_list=import_who_indicators(indicator_data)\n",
    "\n",
    "for info in world:\n",
    "    who_data_list.append(info)"
   ]
  },
  {
   "cell_type": "code",
   "execution_count": 15,
   "metadata": {},
   "outputs": [
    {
     "name": "stderr",
     "output_type": "stream",
     "text": [
      "100%|██████████| 14/14 [00:00<00:00, 125.02it/s]\n"
     ]
    }
   ],
   "source": [
    "def match_country_code(countrycodes,traindata):\n",
    "    #countrycodes=countrycodes[[\"ISO3166-1-Alpha-3\",\"official_name_en\"]]\n",
    "    #countrycodes=countrycodes.drop(countrycodes[countrycodes[\"ISO3166-1-Alpha-3\"].isna()].index,axis=0).reset_index(drop=True)\n",
    "    #countrycodes.columns = [\"Shortcut\", \"Country_Region\"]\n",
    "    countrycodes=countrycodes[[\"Alpha-3 code\", \"English short name lower case\"]]\n",
    "    countrycodes=countrycodes.drop(countrycodes[countrycodes[\"English short name lower case\"].isna()].index,axis=0).reset_index(drop=True)\n",
    "    countrycodes.columns = [\"Shortcut\", \"Country_Region\"]\n",
    "    result = traindata.merge(countrycodes,on=\"Country_Region\",how=\"left\").reset_index(drop=True)\n",
    "    return result\n",
    "\n",
    "new_traindata = match_country_code(countrycodes,train_data)\n",
    "\n",
    "def match_dataframes(new_traindata,who_data):\n",
    "    result = new_traindata.merge(who_data,on=\"Shortcut\",how=\"left\")\n",
    "    return result\n",
    "\n",
    "test_traindata = new_traindata.copy()\n",
    "for who_data in tqdm(who_data_list):\n",
    "    test_traindata=match_dataframes(test_traindata,who_data)"
   ]
  },
  {
   "cell_type": "code",
   "execution_count": 16,
   "metadata": {
    "scrolled": true
   },
   "outputs": [
    {
     "name": "stdout",
     "output_type": "stream",
     "text": [
      "<class 'pandas.core.frame.DataFrame'>\n",
      "Int64Index: 19110 entries, 0 to 19109\n",
      "Data columns (total 21 columns):\n",
      "Id                                                                                         19110 non-null int64\n",
      "Province_State                                                                             8125 non-null object\n",
      "Country_Region                                                                             19110 non-null object\n",
      "Date                                                                                       19110 non-null object\n",
      "ConfirmedCases                                                                             19110 non-null int32\n",
      "Fatalities                                                                                 19110 non-null int32\n",
      "Shortcut                                                                                   18980 non-null object\n",
      "Population_using_at_least_basic_sanitation_services_(%)                                    18850 non-null float64\n",
      "Hospital_beds_(per_10_000_population)                                                      18460 non-null float64\n",
      "Total_expenditure_on_health_as_a_percentage_of_gross_domestic_product                      18785 non-null float64\n",
      "Medical_doctors_(per_10_000_population)                                                    18850 non-null float64\n",
      "Nursing_and_midwifery_personnel_(per_10_000_population)                                    18785 non-null float64\n",
      "Skilled_health_professionals_density_(per_10_000_population)                               18135 non-null float64\n",
      "Prevalence_of_smoking_any_tobacco_product_among_persons_aged_>=_15_years                   15600 non-null float64\n",
      "Raised_fasting_blood_glucose_(>=7.0_mmol/L_or_on_medication)(age-standardized_estimate)    18655 non-null float64\n",
      "Raised_blood_pressure_(SBP>=140_OR_DBP>=90)_(age-standardized_estimate)                    18655 non-null float64\n",
      "Prevalence_of_obesity_among_adults,_BMI_>=_30_(age-standardized_estimate)_(%)              18655 non-null float64\n",
      "Health_Service_Provision                                                                   18070 non-null float64\n",
      "Population ages 65 and above                                                               18460 non-null float64\n",
      "Pop                                                                                        18850 non-null float64\n",
      "Pop_dens                                                                                   18720 non-null float64\n",
      "dtypes: float64(14), int32(2), int64(1), object(4)\n",
      "memory usage: 3.1+ MB\n"
     ]
    }
   ],
   "source": [
    "test_traindata.info()"
   ]
  },
  {
   "cell_type": "code",
   "execution_count": 18,
   "metadata": {},
   "outputs": [
    {
     "data": {
      "text/plain": [
       "array(['Diamond Princess', 'Holy See'], dtype=object)"
      ]
     },
     "execution_count": 18,
     "metadata": {},
     "output_type": "execute_result"
    }
   ],
   "source": [
    "test_traindata[new_traindata[\"Shortcut\"].isna()][\"Country_Region\"].unique()"
   ]
  },
  {
   "cell_type": "code",
   "execution_count": null,
   "metadata": {},
   "outputs": [],
   "source": []
  }
 ],
 "metadata": {
  "kernelspec": {
   "display_name": "Python 3",
   "language": "python",
   "name": "python3"
  },
  "language_info": {
   "codemirror_mode": {
    "name": "ipython",
    "version": 3
   },
   "file_extension": ".py",
   "mimetype": "text/x-python",
   "name": "python",
   "nbconvert_exporter": "python",
   "pygments_lexer": "ipython3",
   "version": "3.7.4"
  }
 },
 "nbformat": 4,
 "nbformat_minor": 4
}
