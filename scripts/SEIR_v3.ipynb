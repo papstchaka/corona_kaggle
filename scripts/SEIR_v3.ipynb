{
 "cells": [
  {
   "cell_type": "markdown",
   "metadata": {},
   "source": [
    "# Data Import"
   ]
  },
  {
   "cell_type": "code",
   "execution_count": 1,
   "metadata": {
    "scrolled": true
   },
   "outputs": [
    {
     "name": "stderr",
     "output_type": "stream",
     "text": [
      "11it [00:13,  1.19s/it]\n"
     ]
    }
   ],
   "source": [
    "from data_mining2 import data\n",
    "d=data()"
   ]
  },
  {
   "cell_type": "code",
   "execution_count": 2,
   "metadata": {},
   "outputs": [
    {
     "name": "stderr",
     "output_type": "stream",
     "text": [
      "100%|██████████████████████████████████████████████████████████████████████████████████| 14/14 [00:00<00:00, 53.03it/s]\n"
     ]
    }
   ],
   "source": [
    "dataset=d.merge_whole_dataset()"
   ]
  },
  {
   "cell_type": "code",
   "execution_count": 3,
   "metadata": {},
   "outputs": [],
   "source": [
    "import datetime\n",
    "dataset['Date_datetime'] = dataset['Date'].apply(lambda x: (datetime.datetime.strptime(x, '%Y-%m-%d')))"
   ]
  },
  {
   "cell_type": "code",
   "execution_count": 4,
   "metadata": {},
   "outputs": [],
   "source": [
    "import pandas as pd\n",
    "import numpy as np\n",
    "import matplotlib.pyplot as plt\n",
    "from pathlib import Path\n",
    "import os\n",
    "from tqdm.notebook import tqdm\n",
    "from scipy.integrate import solve_ivp\n",
    "from scipy.optimize import minimize\n",
    "from sklearn.metrics import mean_squared_log_error, mean_squared_error\n",
    "from datetime import timedelta\n",
    "import math\n",
    "from matplotlib import dates\n",
    "import plotly.graph_objects as go\n",
    "\n",
    "\n",
    "%matplotlib inline"
   ]
  },
  {
   "cell_type": "markdown",
   "metadata": {},
   "source": [
    "# Plot Def"
   ]
  },
  {
   "cell_type": "code",
   "execution_count": 5,
   "metadata": {},
   "outputs": [],
   "source": [
    "def TrendPlot(exp,inf,rec,train_data, y_pred):\n",
    "    \n",
    "        f = plt.figure(figsize=(16,5))\n",
    "        ax = f.add_subplot(1,2,1)\n",
    "        ax.plot(exp, 'y', label='Exposed');\n",
    "        ax.plot(inf, 'r', label='Infected');\n",
    "        ax.plot(rec, 'c', label='Recovered/deceased');\n",
    "        plt.title('SEIR Model Trends')\n",
    "        plt.xlabel(\"Days\", fontsize=10);\n",
    "        plt.ylabel(\"Fraction of population\", fontsize=10);\n",
    "        plt.legend(loc='best');\n",
    "        \n",
    "        #train_date_remove_year = train_data['Date_datetime'].apply(lambda date:'{:%m-%d}'.format(date))\n",
    "        ax2 = f.add_subplot(1,2,2)\n",
    "        xaxis = train_data['Date_datetime'].tolist()\n",
    "        xaxis = dates.date2num(xaxis)\n",
    "        hfmt = dates.DateFormatter('%m\\n%d')\n",
    "        ax2.xaxis.set_major_formatter(hfmt)\n",
    "        ax2.plot(np.array(train_data['Date_datetime'], dtype='datetime64[D]'),train_data['ConfirmedCases'],label='Confirmed Cases (train)', c='g')\n",
    "        ax2.plot(np.array(train_data['Date_datetime'], dtype='datetime64[D]'), y_pred['ConfirmedCases'][:len(train_data)],label='Cumulative modeled infections', c='r')\n",
    "        plt.title('Real ConfirmedCase and Predict ConfirmedCase')\n",
    "        plt.legend(loc='best');\n",
    "        plt.show()\n",
    "        return \"Drawn\""
   ]
  },
  {
   "cell_type": "code",
   "execution_count": 6,
   "metadata": {},
   "outputs": [],
   "source": [
    "def LongTermPlot(time_array, y_pred, train_data, where_time_con, max_con, where_time, pred_max_day\n",
    "                 , start, end, train_max, area_name, population):\n",
    "\n",
    "        fig = go.Figure()\n",
    "        fig.add_trace(go.Scatter(x=time_array, y=y_pred['ConfirmedCases'].astype(int),\n",
    "                            mode='lines',\n",
    "                            line = dict(color='red'),\n",
    "                            name='Estimation Confirmed Case Start from '+ str(start.date())+ ' to ' +str(end.date())))\n",
    "        fig.add_trace(go.Scatter(x=time_array[:len(train_data)], y=train_data['ConfirmedCases'],\n",
    "                            mode='lines',\n",
    "                            name='Confirmed case until '+ str(train_max.date()),line = dict(color='green', width=4)))\n",
    "        fig.add_annotation(\n",
    "            x=where_time_con,\n",
    "            y=max_con-(max_con/30),\n",
    "            showarrow=False,\n",
    "            text=\"Estimate Max Case around:\" +str(int(max_con)),\n",
    "            font=dict(\n",
    "                color=\"Blue\",\n",
    "                size=15\n",
    "            ))\n",
    "        fig.add_annotation(\n",
    "            x=time_array[len(train_data)-1],\n",
    "            y=train_data['ConfirmedCases'].tolist()[-1],\n",
    "            showarrow=True,\n",
    "            text=f\"Real Max ConfirmedCase: \" +str(int(train_data['ConfirmedCases'].tolist()[-1]))) \n",
    "        \n",
    "        fig.add_annotation(\n",
    "            x=where_time,\n",
    "            y=pred_max_day,\n",
    "            text='Infect start decrease from: ' + str(where_time))   \n",
    "        fig.update_layout(title='Estimate Confirmed Case ,'+area_name+' Total population ='+ str(int(population)), legend_orientation=\"h\")\n",
    "        fig.show()\n",
    "        return \"Drawn\""
   ]
  },
  {
   "cell_type": "markdown",
   "metadata": {},
   "source": [
    "# SEIR Equations"
   ]
  },
  {
   "cell_type": "code",
   "execution_count": 27,
   "metadata": {},
   "outputs": [],
   "source": [
    "# Function code refernece from https://www.kaggle.com/anjum48/seir-model-with-intervention\n",
    "\n",
    "# Susceptible equation\n",
    "def dS_dt(S, I, R_t, T_inf):\n",
    "    return -(R_t / T_inf) * I * S\n",
    "\n",
    "# Exposed equation\n",
    "def dE_dt(S, E, I, R_t, T_inf, T_inc):\n",
    "    return (R_t / T_inf) * I * S - (T_inc**-1) * E\n",
    "\n",
    "# Infected equation\n",
    "def dI_dt(I, E, T_inc, T_inf):\n",
    "    return (T_inc**-1) * E - (T_inf**-1) * I\n",
    "\n",
    "# Recovered/Remove/deceased equation\n",
    "def dR_dt(I, T_inf):\n",
    "    return (T_inf**-1) * I\n",
    "\n",
    "def SEIR_model(t, y, R_t, T_inf, T_inc):\n",
    "    \n",
    "    if callable(R_t):\n",
    "        reproduction = R_t(t)\n",
    "    else:\n",
    "        reproduction = R_t\n",
    "        \n",
    "    S, E, I, R = y\n",
    "    \n",
    "    S_out = dS_dt(S, I, reproduction, T_inf)\n",
    "    E_out = dE_dt(S, E, I, reproduction, T_inf, T_inc)\n",
    "    I_out = dI_dt(I, E, T_inc, T_inf)\n",
    "    R_out = dR_dt(I, T_inf)\n",
    "    \n",
    "    return [S_out, E_out, I_out, R_out]"
   ]
  },
  {
   "cell_type": "code",
   "execution_count": 28,
   "metadata": {},
   "outputs": [],
   "source": [
    "## to even fluctuations\n",
    "\n",
    "def cumsum_signal(vec):\n",
    "    temp_val = 0\n",
    "    vec_new = []\n",
    "    for i in vec:\n",
    "        if i > temp_val:\n",
    "            vec_new.append(i)\n",
    "            temp_val = i\n",
    "        else:\n",
    "            vec_new.append(temp_val)\n",
    "    return vec_new"
   ]
  },
  {
   "cell_type": "markdown",
   "metadata": {},
   "source": [
    "# Fitting the model to the data"
   ]
  },
  {
   "cell_type": "code",
   "execution_count": 66,
   "metadata": {},
   "outputs": [],
   "source": [
    "# Use a constant reproduction number\n",
    "def eval_model_const(params, data, population, return_solution=False, forecast_days=0):\n",
    "    #R_0, cfr = params # Paramaters, R0 and cfr \n",
    "    R_0,x = params\n",
    "    cfr = 0.01\n",
    "    #R_0, x = params\n",
    "#     x = x\n",
    "    N = population # Population of each country\n",
    "    n_infected = data['ConfirmedCases'].iloc[0] # start from first comfirmedcase on dataset first date\n",
    "    max_days = len(data) + forecast_days # How many days want to predict\n",
    "    s, e, i, r = (N - n_infected)/ N, 0, n_infected / N, 0 #Initial stat for SEIR model\n",
    "    \n",
    " #  def time_varying_reproduction(t):\n",
    " #      if t > 80: # we set intervention days = 80\n",
    " #          return R_0 * 0.5\n",
    " #      else:\n",
    " #          return R_0    \n",
    "    \n",
    "    # R0 is time dependent on the Stringency Index\n",
    "    def time_varying_reproduction(t):\n",
    "        if (t<len(data)):\n",
    "            if(math.isnan(data[\"StringencyIndex\"].iloc[int(t)]) == False):\n",
    "                temp = R_0 *(x/data[\"StringencyIndex\"].iloc[int(t)])\n",
    "            else:\n",
    "                temp = R_0 *(x/80)\n",
    "        else: \n",
    "            temp = R_0 *(x/80)\n",
    "      #print (temp)\n",
    "        return temp\n",
    "    \n",
    "#   def time_varying_reproduction(t):\n",
    "#       if (t<len(data)):\n",
    "#           if(math.isnan(data[\"StringencyIndex\"].iloc[int(t)]) == False):\n",
    "#               temp = R_0 -(x/14) * data[\"StringencyIndex\"].iloc[int(t)]\n",
    "#           else:\n",
    "#               temp = R_0 -(x/14) * 71\n",
    "#       else: \n",
    "#           temp = R_0 -(x/14) * 71\n",
    "#       #print (temp)\n",
    "#       return temp\n",
    "   \n",
    "   \n",
    "    sol = solve_ivp(fun=lambda t,y:SEIR_model(t, y, time_varying_reproduction, T_inf, T_inc),\n",
    "                    t_span=[0, max_days],y0=[s, e, i, r], t_eval=np.arange(max_days))\n",
    "    \n",
    "    sus, exp, inf, rec = sol.y\n",
    "    # Predict confirmedcase\n",
    "    y_pred_cases = np.clip((inf + rec) * N ,0,np.inf)\n",
    "    y_true_cases = data['ConfirmedCases'].values\n",
    "    \n",
    "    # Predict Fatalities by remove * fatality rate(cfr)\n",
    "    y_pred_fat = np.clip(rec*N* cfr, 0, np.inf)\n",
    "    y_true_fat = data['Fatalities'].values\n",
    "    \n",
    "    optim_days = min(20, len(data))  # Days to optimise for\n",
    "    weights = 1 / np.arange(1, optim_days+1)[::-1]  # Recent data is more heavily weighted\n",
    "    \n",
    "    # using mean squre log error to evaluate\n",
    "    msle_cases = mean_squared_log_error(y_true_cases[-optim_days:], y_pred_cases[-optim_days:], weights)\n",
    "    #msle_fat = mean_squared_log_error(y_true_fat[-optim_days:], y_pred_fat[-optim_days:], weights)\n",
    "    #msle_final = np.mean([msle_cases, msle_fat])\n",
    "    \n",
    "    if return_solution:\n",
    "    #    return msle_final, sol\n",
    "        return msle_cases, sol\n",
    "    else:\n",
    "    #    return msle_final\n",
    "        return msle_cases"
   ]
  },
  {
   "cell_type": "code",
   "execution_count": 67,
   "metadata": {},
   "outputs": [],
   "source": [
    "def fit_model_new(data, area_name, initial_guess=[2.2, 0.02, 2, 50], \n",
    "              bounds=((1, 20), (0, 0.15), (1, 3), (1, 100)), make_plot=True):\n",
    "    cfr = 0.01\n",
    "    \n",
    "    train_data = data.query('ConfirmedCases > 0').copy()\n",
    "        \n",
    "    ####### If this country have no ConfirmedCase, return 0 #######\n",
    "    if len(train_data) == 0:\n",
    "        result_zero = np.zeros((43))\n",
    "        return pd.DataFrame({'ConfirmedCases':result_zero,'Fatalities':result_zero}), 0 \n",
    "    \n",
    "    population = train_data[\"Pop\"].iloc[0]\n",
    "    n_infected = train_data['ConfirmedCases'].iloc[0]\n",
    "         \n",
    "    ####### Fit the real data by minimizing the MSLE #######\n",
    "    #res_const = minimize(eval_model_const, [5, 48], bounds=((1, 40), (0, 100)),\n",
    "    #                     args=(train_data, population, False),\n",
    "    #                     method='L-BFGS-B')\n",
    "    res_const = minimize(eval_model_const, [5,48], bounds=((0,20),(0,100)), \n",
    "                        args=(train_data, population, False),\n",
    "                         method='SLSQP')\n",
    "    #res_const = minimize(eval_model_const, [2.2, 48], bounds=((1, 20), (0, 100)),\n",
    "    #                     args=(train_data, population, False),\n",
    "    #                     method='L-BFGS-B')\n",
    "    \n",
    "    print(res_const)\n",
    "    \n",
    "    ####### Align the date information #######\n",
    "    test_end = datetime.datetime.strptime('2020-04-30','%Y-%m-%d')\n",
    "    test_start = datetime.datetime.strptime('2020-03-12','%Y-%m-%d')\n",
    "    train_max = train_data.Date_datetime.max()\n",
    "    train_min = train_data.Date_datetime.min()\n",
    "    add_date = 0\n",
    "    delta_days =(test_end - train_max).days\n",
    "    train_add_time=[]\n",
    "\n",
    "    if train_min > test_start:\n",
    "        add_date = (train_min-test_start).days\n",
    "        last = train_min-timedelta(add_date)\n",
    "        train_add_time = np.arange(last, train_min, dtype='datetime64[D]').tolist()\n",
    "        train_add_time = pd.to_datetime(train_add_time)\n",
    "        dates_all = train_add_time.append(pd.to_datetime(np.arange(train_min, test_end+timedelta(1), dtype='datetime64[D]')))\n",
    "    else:\n",
    "        dates_all = pd.to_datetime(np.arange(train_min, test_end+timedelta(1), dtype='datetime64[D]'))\n",
    "\n",
    "\n",
    "    msle, sol = eval_model_const(res_const.x, train_data, population, True, delta_days+add_date)\n",
    "    \n",
    "    res = res_const\n",
    "\n",
    "    ####### Predict the result by using best fit paramater of SEIR model ####### \n",
    "    sus, exp, inf, rec = sol.y\n",
    "    \n",
    "    y_pred = pd.DataFrame({\n",
    "        'ConfirmedCases': cumsum_signal((np.clip((inf + rec) * population,0,np.inf)).tolist()),\n",
    "       # 'ConfirmedCases': [inf[0]*population for i in range(add_date)]+(np.clip((inf + rec) * population,0,np.inf)).tolist(),\n",
    "       # 'Fatalities': [rec[0]*population for i in range(add_date)]+(np.clip(rec, 0, np.inf) * population * res.x[1]).tolist()\n",
    "        #'Fatalities': cumsum_signal((np.clip(rec * population * res.x[1], 0, np.inf)).tolist())\n",
    "        'Fatalities': cumsum_signal((np.clip(rec * population * cfr, 0, np.inf)).tolist())\n",
    "    })\n",
    "    \n",
    "    y_pred_valid = y_pred.iloc[:len(train_data)]\n",
    "    y_pred_test = y_pred.iloc[-43:]\n",
    "    y_true_valid = train_data[['ConfirmedCases', 'Fatalities']]\n",
    "    \n",
    "    ####### Calculate MSLE ####### \n",
    "    valid_msle_cases = mean_squared_log_error(y_true_valid['ConfirmedCases'], y_pred_valid['ConfirmedCases'])\n",
    "    valid_msle_fat = mean_squared_log_error(y_true_valid['Fatalities'], y_pred_valid['Fatalities'])\n",
    "    valid_msle = np.mean([valid_msle_cases, valid_msle_fat])\n",
    "    \n",
    "    ####### Plot the fit result of train data and forecast after 300 days ####### \n",
    "    if make_plot:\n",
    "        #print(f'Validation MSLE: {valid_msle:0.5f}, Reproduction number(R0) : {res.x[0]:0.5f}, Fatal rate : {res.x[1]:0.5f}')\n",
    "        ####### Plot the fit result of train data dna SEIR model trends #######\n",
    "#         print(\"x\")\n",
    "#         print(res.x[0])\n",
    "        TrendPlot(exp,inf,rec,train_data, y_pred)\n",
    "            \n",
    "   #    ####### Forecast 300 days after by using the best paramater of train data #######\n",
    "   #    if len(res.x)>2:\n",
    "   #        msle, sol = eval_model_decay(res.x, train_data, population, True, 300)\n",
    "   #    else:\n",
    "   #        msle, sol = eval_model_const(res.x, train_data, population, True, 300)\n",
    "   #    \n",
    "   #    sus, exp, inf, rec = sol.y\n",
    "   #    \n",
    "   #    y_pred = pd.DataFrame({\n",
    "   #        'ConfirmedCases': cumsum_signal(np.diff((inf + rec) * population, prepend=n_infected).cumsum()),\n",
    "   #        'Fatalities': cumsum_signal(np.clip(rec, 0, np.inf) * population * res.x[1])\n",
    "   #    })\n",
    "   #    \n",
    "   #    ####### Plot 300 days after of each country #######\n",
    "   #    start = train_min\n",
    "   #    end = start + timedelta(len(y_pred))\n",
    "   #    time_array = np.arange(start, end, dtype='datetime64[D]')\n",
    "\n",
    "   #    max_day = np.where(inf == np.amax(inf))[0][0]\n",
    "   #    where_time = time_array[max_day]\n",
    "   #    pred_max_day = y_pred['ConfirmedCases'][max_day]\n",
    "   #    xy_show_max_estimation = (where_time, max_day)\n",
    "   #    \n",
    "   #    con = y_pred['ConfirmedCases']\n",
    "   #    max_day_con = np.where(con == np.amax(con))[0][0] # Find the max confimed case of each country\n",
    "   #    max_con = np.amax(con)\n",
    "   #    where_time_con = time_array[len(time_array)-50]\n",
    "   #    xy_show_max_estimation_confirmed = (where_time_con, max_con)\n",
    "   #    \n",
    "   #    LongTermPlot(time_array, y_pred, train_data, where_time_con, max_con, where_time, pred_max_day\n",
    "   #                  , start, end, train_max, area_name, population)\n",
    "        \n",
    "    return y_pred_test, valid_msle"
   ]
  },
  {
   "cell_type": "markdown",
   "metadata": {},
   "source": [
    "# Running it with a sample country"
   ]
  },
  {
   "cell_type": "code",
   "execution_count": 73,
   "metadata": {},
   "outputs": [
    {
     "name": "stdout",
     "output_type": "stream",
     "text": [
      "     fun: 0.7862078353031715\n",
      "     jac: array([0.31545821, 0.00860087])\n",
      " message: 'Optimization terminated successfully.'\n",
      "    nfev: 156\n",
      "     nit: 24\n",
      "    njev: 23\n",
      "  status: 0\n",
      " success: True\n",
      "       x: array([ 1.13489331, 41.62343636])\n"
     ]
    },
    {
     "data": {
      "image/png": "[encoded data removed]",
      "text/plain": [
       "<Figure size 1152x360 with 2 Axes>"
      ]
     },
     "metadata": {
      "needs_background": "light"
     },
     "output_type": "display_data"
    }
   ],
   "source": [
    "T_inc = 5.2  # average incubation period\n",
    "T_inf = 2.9  # average infectious period\n",
    "R_0 = 2.2  # reproduction number without intervention\n",
    "R_t = 0.7  # reproduction number after intervention\n",
    "\n",
    "country = 'Spain'\n",
    "\n",
    "if country not in dataset['Country_Region'].unique():\n",
    "    country_pd_train = dataset[dataset['Province_State']==country]\n",
    "else:\n",
    "    country_pd_train = dataset[dataset['Country_Region']==country]\n",
    "\n",
    "country_pd_train = country_pd_train[:-3]\n",
    "    \n",
    "a,b = fit_model_new(country_pd_train,country,make_plot=True)"
   ]
  },
  {
   "cell_type": "code",
   "execution_count": null,
   "metadata": {},
   "outputs": [],
   "source": [
    "country_pd_train.head(70)"
   ]
  },
  {
   "cell_type": "code",
   "execution_count": null,
   "metadata": {},
   "outputs": [],
   "source": []
  }
 ],
 "metadata": {
  "kernelspec": {
   "display_name": "Python 3",
   "language": "python",
   "name": "python3"
  },
  "language_info": {
   "codemirror_mode": {
    "name": "ipython",
    "version": 3
   },
   "file_extension": ".py",
   "mimetype": "text/x-python",
   "name": "python",
   "nbconvert_exporter": "python",
   "pygments_lexer": "ipython3",
   "version": "3.6.5"
  }
 },
 "nbformat": 4,
 "nbformat_minor": 4
}
